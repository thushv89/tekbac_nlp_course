{
 "cells": [
  {
   "cell_type": "markdown",
   "metadata": {},
   "source": [
    "# Introduction to Jupyter notebooks\n",
    "\n",
    "## Why use Jupyter notebooks?\n",
    "\n",
    "Jupyter notebooks are an amazing tool. Jupyter notebooks offer a range of benefits compared to using python scripts.\n",
    "* Python scripts are not very good at story telling, as it is a basic text file. However Jupyter offers richer formatting as it is rendered as a web page. This is great for communicating results to non-technical stakeholders.\n",
    "* Jupyter notebooks are great for quickly prototyping programs\n",
    "* Isolated cells enable you to edit content/output of one cell without affecting the others.\n",
    "\n",
    "## What is a Jupyter notebook?\n",
    "A Jupyter notebook is a web application. A Jupyter notebook allows to share live, code equation and visualizations. Jupyter is built upon the client-server architecture. Currently Jupyter supports 40+ languages including popular languages such as Julia, Python, and R. The general components encountered when executing a Jupyter notebook are as follows:\n",
    "* `.ipynb` file: This is where you will be coding. This is a file format based on JSON and will be rendered as an html page when opened on the web browser\n",
    "* `kernel`: This is the process that will be executing the code when the user click `Run cell`.\n",
    "* `Jupyter server`: This is the server that will allow you to view Jupyter notebooks via an exposed port (8888 by default)\n",
    "\n",
    "![Jupyter architecture](../images/jupyter_architecture.png)\n",
    "\n",
    "More info: [Here](https://jupyter.readthedocs.io/en/latest/architecture/how_jupyter_ipython_work.html)"
   ]
  },
  {
   "cell_type": "markdown",
   "metadata": {},
   "source": [
    "## Let's check which shell commands are available"
   ]
  },
  {
   "cell_type": "code",
   "execution_count": 33,
   "metadata": {},
   "outputs": [
    {
     "name": "stdout",
     "output_type": "stream",
     "text": [
      "Total number of aliases: 8\n"
     ]
    },
    {
     "data": {
      "text/plain": [
       "[('copy', 'copy'),\n",
       " ('ddir', 'dir /ad /on'),\n",
       " ('echo', 'echo'),\n",
       " ('ldir', 'dir /ad /on'),\n",
       " ('ls', 'dir /on'),\n",
       " ('mkdir', 'mkdir'),\n",
       " ('ren', 'ren'),\n",
       " ('rmdir', 'rmdir')]"
      ]
     },
     "execution_count": 33,
     "metadata": {},
     "output_type": "execute_result"
    }
   ],
   "source": [
    "%alias"
   ]
  },
  {
   "cell_type": "markdown",
   "metadata": {},
   "source": [
    "## Executing Linux shell commands"
   ]
  },
  {
   "cell_type": "code",
   "execution_count": 34,
   "metadata": {},
   "outputs": [
    {
     "name": "stdout",
     "output_type": "stream",
     "text": [
      " Volume in drive C has no label.\n",
      " Volume Serial Number is E417-6E9C\n",
      "\n",
      " Directory of C:\\Users\\thush\\Documents\\code\\tekbac_deeplearning_course\\ch1_introduction_to_tensorflow\n",
      "\n",
      "11/02/2019  09:18 PM    <DIR>          .\n",
      "11/02/2019  09:18 PM    <DIR>          ..\n",
      "28/01/2019  12:33 AM    <DIR>          .ipynb_checkpoints\n",
      "11/02/2019  09:18 PM            10,000 introduction_to_jupyter.ipynb\n",
      "04/02/2019  08:55 PM             9,087 introduction_to_tensorflow.ipynb\n",
      "04/02/2019  09:14 PM            43,821 introduction_to_tensorflow.pptx\n",
      "10/02/2019  10:15 PM             5,744 test.txt\n",
      "               4 File(s)         68,652 bytes\n",
      "               3 Dir(s)  275,731,947,520 bytes free\n"
     ]
    }
   ],
   "source": [
    "%ls"
   ]
  },
  {
   "cell_type": "markdown",
   "metadata": {},
   "source": [
    "## Using Jupyter magic commands\n",
    "\n",
    "### Printing an environmental variable"
   ]
  },
  {
   "cell_type": "code",
   "execution_count": 35,
   "metadata": {},
   "outputs": [
    {
     "data": {
      "text/plain": [
       "'c:\\\\anaconda3\\\\envs\\\\tekbac.deeplearning\\\\Library\\\\bin;C:\\\\Anaconda3\\\\envs\\\\tekbac.deeplearning;C:\\\\Anaconda3\\\\envs\\\\tekbac.deeplearning\\\\Library\\\\mingw-w64\\\\bin;C:\\\\Anaconda3\\\\envs\\\\tekbac.deeplearning\\\\Library\\\\usr\\\\bin;C:\\\\Anaconda3\\\\envs\\\\tekbac.deeplearning\\\\Library\\\\bin;C:\\\\Anaconda3\\\\envs\\\\tekbac.deeplearning\\\\Scripts;C:\\\\Anaconda3\\\\envs\\\\tekbac.deeplearning\\\\bin;C:\\\\Program Files\\\\NVIDIA GPU Computing Toolkit\\\\CUDA\\\\v9.0\\\\bin;C:\\\\Program Files\\\\NVIDIA GPU Computing Toolkit\\\\CUDA\\\\v9.0\\\\libnvvp;C:\\\\Windows\\\\system32;C:\\\\Windows;C:\\\\Windows\\\\System32\\\\Wbem;C:\\\\Windows\\\\System32\\\\WindowsPowerShell\\\\v1.0\\\\;C:\\\\Windows\\\\System32\\\\OpenSSH\\\\;C:\\\\Anaconda3\\\\Scripts;C:\\\\Program Files (x86)\\\\NVIDIA Corporation\\\\PhysX\\\\Common;C:\\\\Program Files\\\\NVIDIA GPU Computing Toolkit\\\\CUDNN\\\\bin;C:\\\\Program Files\\\\Git\\\\cmd;C:\\\\Users\\\\thush\\\\AppData\\\\Local\\\\Microsoft\\\\WindowsApps;;c:\\\\anaconda3\\\\envs\\\\tekbac.deeplearning\\\\lib\\\\site-packages\\\\numpy\\\\.libs'"
      ]
     },
     "execution_count": 35,
     "metadata": {},
     "output_type": "execute_result"
    }
   ],
   "source": [
    "%env PATH"
   ]
  },
  {
   "cell_type": "markdown",
   "metadata": {},
   "source": [
    "### Printing function definition and docstring"
   ]
  },
  {
   "cell_type": "code",
   "execution_count": 36,
   "metadata": {},
   "outputs": [
    {
     "name": "stdout",
     "output_type": "stream",
     "text": [
      " \u001b[0mplt\u001b[0m\u001b[1;33m.\u001b[0m\u001b[0mscatter\u001b[0m\u001b[1;33m(\u001b[0m\u001b[1;33m\n",
      "\u001b[0m    \u001b[1;33m[\u001b[0m\u001b[1;34m'x'\u001b[0m\u001b[1;33m,\u001b[0m \u001b[1;34m'y'\u001b[0m\u001b[1;33m,\u001b[0m \u001b[1;34m's=None'\u001b[0m\u001b[1;33m,\u001b[0m \u001b[1;34m'c=None'\u001b[0m\u001b[1;33m,\u001b[0m \u001b[1;34m'marker=None'\u001b[0m\u001b[1;33m,\u001b[0m \u001b[1;34m'cmap=None'\u001b[0m\u001b[1;33m,\u001b[0m \u001b[1;34m'norm=None'\u001b[0m\u001b[1;33m,\u001b[0m \u001b[1;34m'vmin=None'\u001b[0m\u001b[1;33m,\u001b[0m \u001b[1;34m'vmax=None'\u001b[0m\u001b[1;33m,\u001b[0m \u001b[1;34m'alpha=None'\u001b[0m\u001b[1;33m,\u001b[0m \u001b[1;34m'linewidths=None'\u001b[0m\u001b[1;33m,\u001b[0m \u001b[1;34m'verts=None'\u001b[0m\u001b[1;33m,\u001b[0m \u001b[1;34m'edgecolors=None'\u001b[0m\u001b[1;33m,\u001b[0m \u001b[1;34m'*'\u001b[0m\u001b[1;33m,\u001b[0m \u001b[1;34m'data=None'\u001b[0m\u001b[1;33m,\u001b[0m \u001b[1;34m'**kwargs'\u001b[0m\u001b[1;33m]\u001b[0m\u001b[1;33m,\u001b[0m\u001b[1;33m\n",
      "\u001b[0m\u001b[1;33m)\u001b[0m\u001b[1;33m\u001b[0m\u001b[0m\n",
      " "
     ]
    }
   ],
   "source": [
    "import matplotlib.pyplot as plt\n",
    "%pdef plt.scatter\n",
    "%pdoc plt.scatter"
   ]
  },
  {
   "cell_type": "markdown",
   "metadata": {},
   "source": [
    "## 1.1 Markdown cell\n",
    "\n",
    "### Basic formatting\n",
    "\n",
    "This is a Markdown cell based on the [Markdown markup language](https://en.wikipedia.org/wiki/Markdown). Mark down can provide basic formatting such as **bold** and *italic*. Also MarkDown enables to easily render code such as `tf.add(x, y)`.\n",
    "\n",
    "You can add a separator like below to separate sections\n",
    "\n",
    "---\n",
    "### Attaching images\n",
    "\n",
    "![Jupyter logo](../images/jupyter_logo.png)\n",
    "\n",
    "---\n",
    "### Writing equations\n",
    "\n",
    "Writing equations is easy with $\\LaTeX$. Below is an equation rendered with Latex.\n",
    "\n",
    "$E = mc^2$\n",
    "\n",
    "You can write more complex equations quite easily.\n",
    "\n",
    "$A = \\frac{1}{5}\\alpha + \\sum_{i=0}^N \\beta_i + \\hat{c}$"
   ]
  },
  {
   "cell_type": "markdown",
   "metadata": {},
   "source": [
    "## Writing Python code"
   ]
  },
  {
   "cell_type": "code",
   "execution_count": 37,
   "metadata": {},
   "outputs": [
    {
     "name": "stdout",
     "output_type": "stream",
     "text": [
      "Celsius 25.0 converts to 77.0 Farenheits\n"
     ]
    }
   ],
   "source": [
    "# A Python code cell\n",
    "def celsius_to_farenheit(c):\n",
    "    \"\"\"\n",
    "    Converts a celsius temperature to farenheight (9 * c / 5) + 32\n",
    "    \"\"\"\n",
    "    # Write the return statement\n",
    "\n",
    "c = 25.0\n",
    "print(\n",
    "    \"Celsius {} converts to {} Farenheits\".format(\n",
    "        c, celsius_to_farenheit(c)\n",
    "    )\n",
    ")"
   ]
  },
  {
   "cell_type": "markdown",
   "metadata": {},
   "source": [
    "## Plotting graphs\n"
   ]
  },
  {
   "cell_type": "code",
   "execution_count": 38,
   "metadata": {},
   "outputs": [
    {
     "data": {
      "image/png": "[encoded data removed]",
      "text/plain": [
       "<Figure size 432x288 with 1 Axes>"
      ]
     },
     "metadata": {
      "needs_background": "light"
     },
     "output_type": "display_data"
    }
   ],
   "source": [
    "import matplotlib.pyplot as plt\n",
    "%matplotlib inline\n",
    "\n",
    "c_vector = list(range(-25,100,5))\n",
    "f_vector = [celsius_to_farenheit(c) for c in c_vector]\n",
    "# Plot Farenheit against Celcius\n",
    "plt.plot(____, ____)\n",
    "plt.xlabel('Celsius')\n",
    "plt.ylabel('Farenheit')\n",
    "plt.title('Celsius vs Farenheit Temperature Scale')\n",
    "plt.show()\n"
   ]
  },
  {
   "cell_type": "markdown",
   "metadata": {},
   "source": [
    "## Printing the last output"
   ]
  },
  {
   "cell_type": "code",
   "execution_count": 1,
   "metadata": {},
   "outputs": [
    {
     "name": "stdout",
     "output_type": "stream",
     "text": [
      "\n"
     ]
    }
   ],
   "source": [
    "print(_)"
   ]
  },
  {
   "cell_type": "code",
   "execution_count": 40,
   "metadata": {},
   "outputs": [
    {
     "data": {
      "text/plain": [
       "\"get_ipython().run_line_magic('echo', '$$PATH')\""
      ]
     },
     "execution_count": 40,
     "metadata": {},
     "output_type": "execute_result"
    }
   ],
   "source": [
    "In[8]"
   ]
  },
  {
   "cell_type": "markdown",
   "metadata": {},
   "source": [
    "## Introduction to pandas\n",
    "\n",
    "Pandas has two main data structures:\n",
    "\n",
    "* Series - This is simply a set of key-value pairs\n",
    "* Dataframe - This is composed of several series structures\n"
   ]
  },
  {
   "cell_type": "code",
   "execution_count": 1,
   "metadata": {},
   "outputs": [],
   "source": [
    "import pandas as pd\n",
    "\n",
    "# Create a series with indices [A,B,C] and values [1,2,3]\n",
    "# See the elements using head() function"
   ]
  },
  {
   "cell_type": "code",
   "execution_count": 2,
   "metadata": {},
   "outputs": [],
   "source": [
    "# Create a dataframe with columns [A,B] and values [[0,1,2], [2,1,0]]\n",
    "# See the elements using head() function"
   ]
  },
  {
   "cell_type": "code",
   "execution_count": 3,
   "metadata": {},
   "outputs": [],
   "source": [
    "# Create a new column C as the sum of columns A, B\n",
    "# Create another column D as column C added to mean value of A, B columns (mean taken over axis 1)\n",
    "# See the elements using head() function"
   ]
  },
  {
   "cell_type": "code",
   "execution_count": 4,
   "metadata": {},
   "outputs": [],
   "source": [
    "# Increase value of A by 1 using apply function\n",
    "# See the elements using head() function"
   ]
  },
  {
   "cell_type": "code",
   "execution_count": 5,
   "metadata": {},
   "outputs": [],
   "source": [
    "# Create column E which gets the value of C if A > B, otherwise -1 using the apply function\n",
    "# See the elements using head() function"
   ]
  },
  {
   "cell_type": "code",
   "execution_count": null,
   "metadata": {},
   "outputs": [],
   "source": []
  }
 ],
 "metadata": {
  "kernelspec": {
   "display_name": "Python 3",
   "language": "python",
   "name": "python3"
  },
  "language_info": {
   "codemirror_mode": {
    "name": "ipython",
    "version": 3
   },
   "file_extension": ".py",
   "mimetype": "text/x-python",
   "name": "python",
   "nbconvert_exporter": "python",
   "pygments_lexer": "ipython3",
   "version": "3.5.6"
  }
 },
 "nbformat": 4,
 "nbformat_minor": 2
}
