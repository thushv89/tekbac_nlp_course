{
 "cells": [
  {
   "cell_type": "markdown",
   "metadata": {},
   "source": [
    "# Introduction to Tensorflow\n",
    "Estimated time: 1:30 hours"
   ]
  },
  {
   "cell_type": "markdown",
   "metadata": {},
   "source": [
    "## Importing necessary libraries"
   ]
  },
  {
   "cell_type": "code",
   "execution_count": 1,
   "metadata": {},
   "outputs": [],
   "source": [
    "import tensorflow as tf\n",
    "import numpy as np\n",
    "import pandas as pd\n",
    "import matplotlib.pyplot as plt\n",
    "import os\n",
    "import tarfile\n",
    "import requests\n",
    "import re\n",
    "%matplotlib inline"
   ]
  },
  {
   "cell_type": "code",
   "execution_count": 2,
   "metadata": {},
   "outputs": [
    {
     "name": "stdout",
     "output_type": "stream",
     "text": [
      "You have Tensorflow 2.0.0\n"
     ]
    }
   ],
   "source": [
    "# Checking if a GPU is available\n",
    "try:\n",
    "    assert tf.test.is_gpu_available()\n",
    "    print(\"You have Tensorflow {}\".format(tf.__version__))\n",
    "except Exception as ex:\n",
    "    print(ex)\n",
    "    raise AssertionError(\"A GPU was not detected. If your computer does not have a GPU, ignore this message\")"
   ]
  },
  {
   "cell_type": "markdown",
   "metadata": {},
   "source": [
    "## Good old Python vs TensorFlow"
   ]
  },
  {
   "cell_type": "code",
   "execution_count": 3,
   "metadata": {
    "scrolled": true
   },
   "outputs": [
    {
     "name": "stdout",
     "output_type": "stream",
     "text": [
      "392 ms ± 33.1 ms per loop (mean ± std. dev. of 7 runs, 1 loop each)\n",
      "1.45 s ± 0 ns per loop (mean ± std. dev. of 1 run, 1 loop each)\n",
      "77.6 ms ± 0 ns per loop (mean ± std. dev. of 1 run, 1 loop each)\n",
      "88.1 ms ± 2.66 ms per loop (mean ± std. dev. of 7 runs, 10 loops each)\n",
      "Numpy took 0.2x times more time than )1st) TensorFlow\n",
      "Numpy took 4.3x times more time than (2nd) TensorFlow\n",
      "Numpy took 3.9x times more time than (3rd onwards) TensorFlow\n"
     ]
    }
   ],
   "source": [
    "mat_size = 2500\n",
    "\n",
    "# Python/Numpy function\n",
    "def numpy_dot(a,b):\n",
    "    return np.dot(a,b)\n",
    "\n",
    "# TensorFlow function\n",
    "@tf.function\n",
    "def tf_dot(a,b):\n",
    "    tf_a = tf.convert_to_tensor(a, dtype=tf.float32)\n",
    "    tf_b = tf.convert_to_tensor(b, dtype=tf.float32)\n",
    "    \n",
    "    return tf.matmul(tf_a,tf_b)\n",
    "    \n",
    "# Defining matrices\n",
    "a = np.random.normal(size=(mat_size, mat_size)).astype(np.float32)\n",
    "b = np.random.normal(size=(mat_size, mat_size)).astype(np.float32)\n",
    "\n",
    "# Timing different operations\n",
    "np_time = %timeit -o numpy_dot(a,b)\n",
    "tf_time1 = %timeit -n 1 -r 1 -o tf_dot(a,b)\n",
    "tf_time2 = %timeit -n 1 -r 1 -o tf_dot(a,b)\n",
    "tf_time3 = %timeit -o tf_dot(a,b)\n",
    "\n",
    "print(\"Numpy took {:.1f}x times more time than )1st) TensorFlow\".format(np_time.best*1.0/tf_time1.best))\n",
    "print(\"Numpy took {:.1f}x times more time than (2nd) TensorFlow\".format(np_time.best*1.0/tf_time2.best))\n",
    "print(\"Numpy took {:.1f}x times more time than (3rd onwards) TensorFlow\".format(np_time.best*1.0/tf_time3.best))"
   ]
  },
  {
   "cell_type": "markdown",
   "metadata": {},
   "source": [
    "## Numpy is very slow (for large matrices)\n",
    "\n",
    "Not just matrix multiplication, but also other operations like convolution which are ubiquotous in neural networks. This is where TensorFlow fits in. Tensorflow has highly GPU-optimized CUDA kernels for these operations which allows TensorFlow to exploit the parallel computation power of GPUs. Where a very good CPU might be able to run 128 threads (vectorized and hyper-threaded) simultaneously, NVIDIA GTX 1080 has 2560 cores.\n",
    "\n",
    "matrix multiplication parallel image\n",
    "\n",
    "## Why use TensorFlow?\n",
    "\n",
    "> TensorFlow is an end-to-end open source platform for machine learning. It has a comprehensive, flexible ecosystem of tools, libraries and community resources that lets researchers push the state-of-the-art in ML and developers easily build and deploy ML powered applications.\n",
    "\n",
    "* Efficiently leverages the explicit parallel nature of GPUs to perform parallelizable computations quickly\n",
    "* Has almost all the high-level functions you will need to implement simple or complex neural network\n",
    "* Provides automatic differentiation so you don't have to write the backward pass of neural networks\n"
   ]
  },
  {
   "cell_type": "markdown",
   "metadata": {},
   "source": [
    "## Downloading and exploring the dataset\n",
    "\n",
    "Here, we are going to use the [MNIST](http://yann.lecun.com/exdb/mnist/) dataset. MNIST is a labelled set of handwritten digit dataset. There are 70000 images and 70000 labels (from 0-9). Each image is black and white and is `28x28`."
   ]
  },
  {
   "cell_type": "code",
   "execution_count": 4,
   "metadata": {},
   "outputs": [
    {
     "name": "stdout",
     "output_type": "stream",
     "text": [
      "Train dataset: X: (60000, 28, 28), Y: (60000,)\n",
      "Test dataset: X: (10000, 28, 28), Y: (10000,)\n",
      "\n",
      "X has values between 0 and 255\n",
      "\n",
      "Y has following labels and counts \n",
      "1    6742\n",
      "7    6265\n",
      "3    6131\n",
      "2    5958\n",
      "9    5949\n",
      "0    5923\n",
      "6    5918\n",
      "8    5851\n",
      "4    5842\n",
      "5    5421\n",
      "dtype: int64\n"
     ]
    }
   ],
   "source": [
    "(x_train, y_train), (x_test, y_test) = tf.keras.datasets.mnist.load_data()\n",
    "print(\"Train dataset: X: {}, Y: {}\".format(x_train.shape, y_train.shape))\n",
    "print(\"Test dataset: X: {}, Y: {}\".format(x_test.shape, y_test.shape))\n",
    "\n",
    "# Checking the range of values in X\n",
    "print(\"\\nX has values between {} and {}\".format(np.min(x_train), np.max(x_train)))\n",
    "# Checking how many labels are there\n",
    "print(\"\\nY has following labels and counts \\n{}\".format(pd.Series(y_train).value_counts()))"
   ]
  },
  {
   "cell_type": "markdown",
   "metadata": {},
   "source": [
    "## Preprocessing the data\n",
    "\n",
    "We will be feeding this data to a neural network and train the model to recognize hand-written digits. Before feeding the data into a model we need to perform some pre-processing. \n",
    "\n",
    "* We will whiten the images (i.e. compute mean of each image and subtract that from all the values of that image)\n",
    "* Unwrap the image by turning 28x28 2D image to 784 1D vector\n",
    "* We will convert labels to one-hot encoded vectors (e.g. `4 -> [0, 0, 0, 0, 1, 0, 0, 0, 0, 0]`)"
   ]
  },
  {
   "cell_type": "code",
   "execution_count": 5,
   "metadata": {},
   "outputs": [
    {
     "name": "stdout",
     "output_type": "stream",
     "text": [
      "Train dataset: X: (60000, 784), Y: (60000, 10)\n",
      "Test dataset: X: (10000, 784), Y: (10000, 10)\n"
     ]
    }
   ],
   "source": [
    "from tensorflow.keras.utils import to_categorical\n",
    "\n",
    "n_labels = 10\n",
    "train_size = y_train.shape[0]\n",
    "test_size = y_test.shape[0]\n",
    "\n",
    "# Normalizing the images\n",
    "x_norm_train = (x_train - np.mean(x_train, axis=(1,2), keepdims=True)).reshape(train_size, -1)\n",
    "x_norm_test = (x_test - np.mean(x_test, axis=(1,2), keepdims=True)).reshape(test_size, -1)\n",
    "\n",
    "# Onehot encoding labels\n",
    "y_oh_train = to_categorical(y_train, num_classes=n_labels)\n",
    "y_oh_test = to_categorical(y_test, num_classes=n_labels)\n",
    "\n",
    "print(\"Train dataset: X: {}, Y: {}\".format(____, ____))\n",
    "print(\"Test dataset: X: {}, Y: {}\".format(____, ____))"
   ]
  },
  {
   "cell_type": "markdown",
   "metadata": {},
   "source": [
    "## Diving into TensorFlow\n",
    "\n",
    "Here we will be exploring how we can define models using Keras. Keras offers three APIs.\n",
    "\n",
    "* Sequential API - For building simple and straight-forward models\n",
    "* Functional API - For building more complex models\n",
    "* Subclassing API - For building custom models and layers\n",
    "\n",
    "## Keras sequential API\n",
    "\n",
    "Here we will define a model with the Keras *Sequential API*. Keras sequential API is one of the simplest APIs for implementing models. You first define a `Sequential()` object and add layers using `.add()` function. Below we are defining a 3 layer neural network."
   ]
  },
  {
   "cell_type": "code",
   "execution_count": 6,
   "metadata": {},
   "outputs": [
    {
     "name": "stdout",
     "output_type": "stream",
     "text": [
      "Model: \"sequential\"\n",
      "_________________________________________________________________\n",
      "Layer (type)                 Output Shape              Param #   \n",
      "=================================================================\n",
      "dense (Dense)                (None, 100)               78500     \n",
      "_________________________________________________________________\n",
      "dense_1 (Dense)              (None, 50)                5050      \n",
      "_________________________________________________________________\n",
      "dense_2 (Dense)              (None, 10)                510       \n",
      "=================================================================\n",
      "Total params: 84,060\n",
      "Trainable params: 84,060\n",
      "Non-trainable params: 0\n",
      "_________________________________________________________________\n"
     ]
    }
   ],
   "source": [
    "from tensorflow.keras import layers, models\n",
    "\n",
    "n_in = 784 # Number of inputs 28x28\n",
    "n_out = 10 # Number of labels (digits)\n",
    "\n",
    "# Creating a sequential model with 3 layers\n",
    "# Two layers have relu activation\n",
    "# The last layer has a softmax activation\n",
    "model1 = models.Sequential()\n",
    "model1.add(layers.Dense(100, activation='relu', input_shape=(n_in,)))\n",
    "# Add another dense layer with 50 nodes and activation relu\n",
    "model1.add(____)\n",
    "model1.add(layers.Dense(n_out, activation='softmax'))\n",
    "\n",
    "# Compile the model\n",
    "model1.compile(loss='categorical_crossentropy', optimizer='adam', metrics=['acc'])\n",
    "# Printing out the summary\n",
    "model1.summary()"
   ]
  },
  {
   "cell_type": "markdown",
   "metadata": {},
   "source": [
    "## Training and evaluating the model\n",
    "\n",
    "The model training is done using `.fit()` method. You first need to pass `x` (i.e. whitened and reshaped images) and `y` (i.e. one hot encoded labels) in that order. "
   ]
  },
  {
   "cell_type": "code",
   "execution_count": 7,
   "metadata": {},
   "outputs": [
    {
     "name": "stdout",
     "output_type": "stream",
     "text": [
      "Train on 48000 samples, validate on 12000 samples\n",
      "Epoch 1/10\n",
      "48000/48000 [==============================] - 9s 184us/sample - loss: 1.6047 - acc: 0.7891 - val_loss: 0.4378 - val_acc: 0.8777\n",
      "Epoch 2/10\n",
      "48000/48000 [==============================] - 8s 171us/sample - loss: 0.4133 - acc: 0.8928 - val_loss: 0.3540 - val_acc: 0.9012\n",
      "Epoch 3/10\n",
      "48000/48000 [==============================] - 8s 175us/sample - loss: 0.2947 - acc: 0.9214 - val_loss: 0.2881 - val_acc: 0.9255\n",
      "Epoch 4/10\n",
      "48000/48000 [==============================] - 8s 168us/sample - loss: 0.2330 - acc: 0.9378 - val_loss: 0.2134 - val_acc: 0.9457\n",
      "Epoch 5/10\n",
      "48000/48000 [==============================] - 8s 167us/sample - loss: 0.1925 - acc: 0.9474 - val_loss: 0.1871 - val_acc: 0.9548\n",
      "Epoch 6/10\n",
      "48000/48000 [==============================] - 8s 175us/sample - loss: 0.1674 - acc: 0.9554 - val_loss: 0.1907 - val_acc: 0.9530\n",
      "Epoch 7/10\n",
      "48000/48000 [==============================] - 7s 155us/sample - loss: 0.1486 - acc: 0.9593 - val_loss: 0.2109 - val_acc: 0.9517\n",
      "Epoch 8/10\n",
      "48000/48000 [==============================] - 8s 164us/sample - loss: 0.1450 - acc: 0.9621 - val_loss: 0.1820 - val_acc: 0.9571\n",
      "Epoch 9/10\n",
      "48000/48000 [==============================] - 8s 172us/sample - loss: 0.1350 - acc: 0.9653 - val_loss: 0.1642 - val_acc: 0.9621\n",
      "Epoch 10/10\n",
      "48000/48000 [==============================] - 8s 161us/sample - loss: 0.1164 - acc: 0.9701 - val_loss: 0.2127 - val_acc: 0.9505\n"
     ]
    }
   ],
   "source": [
    "history1 = model1.fit(x_norm_train, y_oh_train, epochs=10, validation_split=0.2)"
   ]
  },
  {
   "cell_type": "markdown",
   "metadata": {},
   "source": [
    "## Testing the model"
   ]
  },
  {
   "cell_type": "code",
   "execution_count": 8,
   "metadata": {},
   "outputs": [
    {
     "name": "stdout",
     "output_type": "stream",
     "text": [
      "Test loss: 0.21428872477915137 , Test accuracy: 0.9484999775886536\n"
     ]
    }
   ],
   "source": [
    "test_res1 = model1.evaluate(x_norm_test, y_oh_test, verbose=0)\n",
    "print(\"Test loss: {} , Test accuracy: {}\".format(test_res1[0], test_res1[1]))"
   ]
  },
  {
   "cell_type": "markdown",
   "metadata": {},
   "source": [
    "## Printing some of the history of training"
   ]
  },
  {
   "cell_type": "code",
   "execution_count": 9,
   "metadata": {},
   "outputs": [
    {
     "name": "stdout",
     "output_type": "stream",
     "text": [
      "History object records dict_keys(['loss', 'val_loss', 'acc', 'val_acc'])\n",
      "For example, validation accuracy: [0.87766665, 0.9011667, 0.9255, 0.94575, 0.9548333, 0.953, 0.95175, 0.95708334, 0.96208334, 0.9505]\n"
     ]
    }
   ],
   "source": [
    "print(\"History object records {}\".format(history1.history.keys()))\n",
    "print(\"For example, validation accuracy: {}\".format(history1.history.get('val_acc')))"
   ]
  },
  {
   "cell_type": "markdown",
   "metadata": {},
   "source": [
    "## Creating more complex models with Keras"
   ]
  },
  {
   "cell_type": "markdown",
   "metadata": {},
   "source": [
    "### Generating PCA features"
   ]
  },
  {
   "cell_type": "code",
   "execution_count": 10,
   "metadata": {},
   "outputs": [
    {
     "name": "stdout",
     "output_type": "stream",
     "text": [
      "(60000, 3)\n"
     ]
    }
   ],
   "source": [
    "from sklearn.decomposition import PCA\n",
    "\n",
    "n_pca = 3\n",
    "pca = PCA(n_components=n_pca,random_state=100)\n",
    "x_pca_train = pca.fit_transform(x_norm_train)\n",
    "x_pca_test = pca.transform(x_norm_test)\n",
    "print(x_pca_train.shape)"
   ]
  },
  {
   "cell_type": "markdown",
   "metadata": {},
   "source": [
    "### Creating the model\n",
    "\n",
    "Can you draw this model on a piece of paper?"
   ]
  },
  {
   "cell_type": "code",
   "execution_count": 11,
   "metadata": {},
   "outputs": [
    {
     "name": "stdout",
     "output_type": "stream",
     "text": [
      "Model: \"model\"\n",
      "__________________________________________________________________________________________________\n",
      "Layer (type)                    Output Shape         Param #     Connected to                     \n",
      "==================================================================================================\n",
      "input_1 (InputLayer)            [(None, 784)]        0                                            \n",
      "__________________________________________________________________________________________________\n",
      "input_2 (InputLayer)            [(None, 3)]          0                                            \n",
      "__________________________________________________________________________________________________\n",
      "dense_3 (Dense)                 (None, 100)          78500       input_1[0][0]                    \n",
      "__________________________________________________________________________________________________\n",
      "dense_5 (Dense)                 (None, 100)          400         input_2[0][0]                    \n",
      "__________________________________________________________________________________________________\n",
      "dense_4 (Dense)                 (None, 50)           5050        dense_3[0][0]                    \n",
      "__________________________________________________________________________________________________\n",
      "dense_6 (Dense)                 (None, 50)           5050        dense_5[0][0]                    \n",
      "__________________________________________________________________________________________________\n",
      "concatenate (Concatenate)       (None, 100)          0           dense_4[0][0]                    \n",
      "                                                                 dense_6[0][0]                    \n",
      "__________________________________________________________________________________________________\n",
      "dense_7 (Dense)                 (None, 10)           1010        concatenate[0][0]                \n",
      "==================================================================================================\n",
      "Total params: 90,010\n",
      "Trainable params: 90,010\n",
      "Non-trainable params: 0\n",
      "__________________________________________________________________________________________________\n"
     ]
    }
   ],
   "source": [
    "n_in = 784\n",
    "\n",
    "n_out = 10\n",
    "\n",
    "inp_1 = layers.Input(shape=(n_in,))\n",
    "inp_2 = layers.Input(shape=(n_pca,))\n",
    "\n",
    "out_1 = layers.Dense(100, activation='relu')(inp_1)\n",
    "out_1 = layers.Dense(50, activation='relu')(out_1)\n",
    "\n",
    "# Write a Dense layer with 100 nodes and activation relu which takes inp_2 as input\n",
    "out_2 = layers.Dense(____)(____)\n",
    "# Write a Dense layer with 50 nodes and activation relu that takes the output of the previous layer\n",
    "out_2 = layers.Dense(____)(____)\n",
    "\n",
    "out = layers.Concatenate(axis=-1)([out_1, out_2])\n",
    "out = layers.Dense(n_out, activation='softmax')(out)\n",
    "\n",
    "model2 = models.Model(inputs=[inp_1, inp_2], outputs=out)\n",
    "model2.compile(loss='categorical_crossentropy', optimizer='adam', metrics=['acc'])\n",
    "model2.summary()"
   ]
  },
  {
   "cell_type": "markdown",
   "metadata": {},
   "source": [
    "### Fitting the model\n",
    "\n",
    "Let's now fit the model with data. Note that our model takes two inputs given as a Python list. We then train this model for 10 epochs with 20% validation data."
   ]
  },
  {
   "cell_type": "code",
   "execution_count": 12,
   "metadata": {},
   "outputs": [
    {
     "name": "stdout",
     "output_type": "stream",
     "text": [
      "Train on 48000 samples, validate on 12000 samples\n",
      "Epoch 1/10\n",
      "48000/48000 [==============================] - 11s 225us/sample - loss: 2.4141 - acc: 0.8591 - val_loss: 0.7717 - val_acc: 0.8964\n",
      "Epoch 2/10\n",
      "48000/48000 [==============================] - 9s 188us/sample - loss: 0.4566 - acc: 0.9182 - val_loss: 0.3253 - val_acc: 0.9365\n",
      "Epoch 3/10\n",
      "48000/48000 [==============================] - 9s 188us/sample - loss: 0.2605 - acc: 0.9352 - val_loss: 0.2510 - val_acc: 0.9383\n",
      "Epoch 4/10\n",
      "48000/48000 [==============================] - 9s 188us/sample - loss: 0.2043 - acc: 0.9442 - val_loss: 0.2685 - val_acc: 0.9339\n",
      "Epoch 5/10\n",
      "48000/48000 [==============================] - 10s 199us/sample - loss: 0.1812 - acc: 0.9489 - val_loss: 0.2102 - val_acc: 0.9450\n",
      "Epoch 6/10\n",
      "48000/48000 [==============================] - 10s 205us/sample - loss: 0.1613 - acc: 0.9531 - val_loss: 0.2004 - val_acc: 0.9475\n",
      "Epoch 7/10\n",
      "48000/48000 [==============================] - 10s 205us/sample - loss: 0.1498 - acc: 0.9579 - val_loss: 0.1831 - val_acc: 0.9532\n",
      "Epoch 8/10\n",
      "48000/48000 [==============================] - 9s 197us/sample - loss: 0.1439 - acc: 0.9601 - val_loss: 0.2332 - val_acc: 0.9488\n",
      "Epoch 9/10\n",
      "48000/48000 [==============================] - 10s 202us/sample - loss: 0.1293 - acc: 0.9640 - val_loss: 0.1829 - val_acc: 0.9528\n",
      "Epoch 10/10\n",
      "48000/48000 [==============================] - 10s 216us/sample - loss: 0.1236 - acc: 0.9654 - val_loss: 0.1847 - val_acc: 0.9540\n"
     ]
    }
   ],
   "source": [
    "# Fill the blanks what inputs should be\n",
    "inputs = [____, ____]\n",
    "# Fill the blanks what outputs should be\n",
    "outputs = ____\n",
    "history2 = model2.fit(____, ____, epochs=10, validation_split=0.2)"
   ]
  },
  {
   "cell_type": "code",
   "execution_count": 13,
   "metadata": {},
   "outputs": [
    {
     "name": "stdout",
     "output_type": "stream",
     "text": [
      "Test loss: 0.18194830256979913 , Test accuracy: 0.9523000121116638\n"
     ]
    }
   ],
   "source": [
    "test_res2 = model2.evaluate([x_norm_test, x_pca_test], y_oh_test, verbose=0)\n",
    "print(\"Test loss: {} , Test accuracy: {}\".format(test_res2[0], test_res2[1]))"
   ]
  },
  {
   "cell_type": "markdown",
   "metadata": {},
   "source": [
    "## Plotting accuracies\n",
    "\n",
    "Plotting the validation accuracy of the two models.\n",
    "\n",
    "* Model1 - Using only images as inputs\n",
    "* Model2 - Using images + PCA features as inputs\n"
   ]
  },
  {
   "cell_type": "code",
   "execution_count": 14,
   "metadata": {},
   "outputs": [
    {
     "data": {
      "text/plain": [
       "Text(0, 0.5, 'Validation accuracy')"
      ]
     },
     "execution_count": 14,
     "metadata": {},
     "output_type": "execute_result"
    },
    {
     "data": {
      "image/png": "[encoded data removed]",
      "text/plain": [
       "<Figure size 864x432 with 1 Axes>"
      ]
     },
     "metadata": {
      "needs_background": "light"
     },
     "output_type": "display_data"
    }
   ],
   "source": [
    "val1 = history1.history.get('val_acc')\n",
    "val2 = history2.history.get('val_acc')\n",
    "\n",
    "plt.figure(figsize=(12,6))\n",
    "plt.plot(np.arange(len(val1)), val1, color='r', label='Images')\n",
    "plt.plot(np.arange(len(val2)), val2, color='b', label='Images + PCA')\n",
    "plt.legend()\n",
    "plt.title(\"Validation accuracy (Images vs Images + PCA)\", fontsize=18)\n",
    "plt.xlabel(\"Epochs\", fontsize=18)\n",
    "plt.ylabel(\"Validation accuracy\", fontsize=18)"
   ]
  },
  {
   "cell_type": "markdown",
   "metadata": {},
   "source": [
    "## Processing text with TensorFlow/Keras\n",
    "\n",
    "Tensorflow/Keras offers many objects and functions to perform text processing. Text need to be converted to some numerical representation. Here we will be using a movie review dataset to see some of those functionality in action."
   ]
  },
  {
   "cell_type": "code",
   "execution_count": 2,
   "metadata": {},
   "outputs": [
    {
     "name": "stdout",
     "output_type": "stream",
     "text": [
      "Found 25000 reviews\n",
      "Found 12500 positive reviews and 12500 negative reviews\n"
     ]
    }
   ],
   "source": [
    "dataset_url = \"http://ai.stanford.edu/~amaas/data/sentiment/aclImdb_v1.tar.gz\"\n",
    "\n",
    "def download_movie_reviews(url):\n",
    "    \"\"\" Downloading and loading the data \"\"\"\n",
    "    \n",
    "    def read_tar(file):\n",
    "        \"\"\" Try loading the data if it is already downloaded \"\"\"\n",
    "        text_data, labels = [],[]\n",
    "        tar = tarfile.open(file, \"r:gz\")\n",
    "        for member in tar.getmembers():\n",
    "                \n",
    "            if re.match(r\"aclImdb\\/train\\/(?:pos|neg)\\/\\w+.txt\",member.name):\n",
    "                text = tar.extractfile(member).read().decode('utf-8')\n",
    "                if member.name.startswith('aclImdb/train/pos'):\n",
    "                    labels.append(1)\n",
    "                    text_data.append(text)\n",
    "                elif member.name.startswith('aclImdb/train/neg'):\n",
    "                    labels.append(0)\n",
    "                    text_data.append(text)\n",
    "                else:\n",
    "                    continue\n",
    "                    \n",
    "        return text_data, labels\n",
    "    \n",
    "    file = os.path.join('movie-review-data', \"aclImdb_v1.tar.gz\")\n",
    "    \n",
    "    try:\n",
    "        \"\"\" Try loading the data if it is already downloaded \"\"\"\n",
    "        return read_tar(file)\n",
    "\n",
    "    except FileNotFoundError:\n",
    "        \"\"\" If the file is not there, download the file \"\"\"\n",
    "        res = requests.get(url, stream=True)\n",
    "        print('Making a directory movie-review-data to store data')\n",
    "        if not os.path.exists('movie-review-data'):\n",
    "            os.mkdir('movie-review-data')\n",
    "        with open(file, 'wb') as f:\n",
    "            print('Downloading data')\n",
    "            f.write(res.content)\n",
    "            print('Download finished.')\n",
    "        \n",
    "        return read_tar(file)\n",
    "        \n",
    "    except Exception as ex:\n",
    "        raise ex\n",
    "        \n",
    "orig_text_data, orig_labels = download_movie_reviews(dataset_url)\n",
    "print('Found {} reviews'.format(len(orig_text_data)))\n",
    "print('Found {} positive reviews and {} negative reviews'.format(\n",
    "    sum(orig_labels), len(orig_labels)-sum(orig_labels))\n",
    "     )"
   ]
  },
  {
   "cell_type": "markdown",
   "metadata": {},
   "source": [
    "## Printing some data\n",
    "\n",
    "Let's first print some data and see what we have got."
   ]
  },
  {
   "cell_type": "code",
   "execution_count": 3,
   "metadata": {},
   "outputs": [
    {
     "name": "stdout",
     "output_type": "stream",
     "text": [
      "Review: I rented I AM CURIOUS-YELLOW from my video store because of all the controversy that surrounded it when it was first released in 1967. I also heard that at first it was seized by U.S. customs if it ever tried to enter this country, therefore being a \n",
      "Label: 0\n",
      "Review: \"I Am Curious: Yellow\" is a risible and pretentious steaming pile. It doesn't matter what one's political views are because this film can hardly be taken seriously on any level. As for the claim that frontal male nudity is an automatic NC-17, that is\n",
      "Label: 0\n",
      "Review: If only to avoid making this type of film in the future. This film is interesting as an experiment but tells no cogent story.<br /><br />One might feel virtuous for sitting thru it because it touches on so many IMPORTANT issues but it does so without\n",
      "Label: 0\n",
      "Review: This film was probably inspired by Godard's Masculin, féminin and I urge you to see that film instead.<br /><br />The film has two strong elements and those are, (1) the realistic acting (2) the impressive, undeservedly good, photo. Apart from that, \n",
      "Label: 0\n",
      "Review: Oh, brother...after hearing about this ridiculous film for umpteen years all I can think of is that old Peggy Lee song..<br /><br />\"Is that all there is??\" ...I was just an early teen when this smoked fish hit the U.S. I was too young to get in the \n",
      "Label: 0\n",
      "Review: I would put this at the top of my list of films in the category of unwatchable trash! There are films that are bad, but the worst kind are the ones that are unwatchable but you are suppose to like them because they are supposed to be good for you! Th\n",
      "Label: 0\n"
     ]
    }
   ],
   "source": [
    "for i, (rev, lbl) in enumerate(zip(orig_text_data, orig_labels)):\n",
    "    print(\"Review: {}\".format(rev[:250]))\n",
    "    print(\"Label: {}\".format(lbl))\n",
    "    if i==5: break"
   ]
  },
  {
   "cell_type": "markdown",
   "metadata": {},
   "source": [
    "## Further analysis with pandas\n",
    "\n",
    "We can do further analysis and preprocessing using pandas. Pandas is a very versatile library that enables us to perform complex data manipulation on numbers and strings."
   ]
  },
  {
   "cell_type": "code",
   "execution_count": 4,
   "metadata": {},
   "outputs": [
    {
     "data": {
      "text/html": [
       "<div>\n",
       "<style scoped>\n",
       "    .dataframe tbody tr th:only-of-type {\n",
       "        vertical-align: middle;\n",
       "    }\n",
       "\n",
       "    .dataframe tbody tr th {\n",
       "        vertical-align: top;\n",
       "    }\n",
       "\n",
       "    .dataframe thead th {\n",
       "        text-align: right;\n",
       "    }\n",
       "</style>\n",
       "<table border=\"1\" class=\"dataframe\">\n",
       "  <thead>\n",
       "    <tr style=\"text-align: right;\">\n",
       "      <th></th>\n",
       "      <th>label</th>\n",
       "      <th>text</th>\n",
       "    </tr>\n",
       "  </thead>\n",
       "  <tbody>\n",
       "    <tr>\n",
       "      <th>0</th>\n",
       "      <td>0</td>\n",
       "      <td>I rented I AM CURIOUS-YELLOW from my video sto...</td>\n",
       "    </tr>\n",
       "    <tr>\n",
       "      <th>1</th>\n",
       "      <td>0</td>\n",
       "      <td>\"I Am Curious: Yellow\" is a risible and preten...</td>\n",
       "    </tr>\n",
       "    <tr>\n",
       "      <th>2</th>\n",
       "      <td>0</td>\n",
       "      <td>If only to avoid making this type of film in t...</td>\n",
       "    </tr>\n",
       "    <tr>\n",
       "      <th>3</th>\n",
       "      <td>0</td>\n",
       "      <td>This film was probably inspired by Godard's Ma...</td>\n",
       "    </tr>\n",
       "    <tr>\n",
       "      <th>4</th>\n",
       "      <td>0</td>\n",
       "      <td>Oh, brother...after hearing about this ridicul...</td>\n",
       "    </tr>\n",
       "  </tbody>\n",
       "</table>\n",
       "</div>"
      ],
      "text/plain": [
       "   label                                               text\n",
       "0      0  I rented I AM CURIOUS-YELLOW from my video sto...\n",
       "1      0  \"I Am Curious: Yellow\" is a risible and preten...\n",
       "2      0  If only to avoid making this type of film in t...\n",
       "3      0  This film was probably inspired by Godard's Ma...\n",
       "4      0  Oh, brother...after hearing about this ridicul..."
      ]
     },
     "execution_count": 4,
     "metadata": {},
     "output_type": "execute_result"
    }
   ],
   "source": [
    "# Converting the data we got to a pandas dataframe\n",
    "df = pd.DataFrame({\"text\": orig_text_data, \"label\": orig_labels})\n",
    "df.head()"
   ]
  },
  {
   "cell_type": "markdown",
   "metadata": {},
   "source": [
    "## Basic text preprocessing with pandas\n",
    "\n",
    "Here we will be doing some basic preprocessing. This is not an exhaustive list of steps. However this would be adequate as we will not traing a model on this data, rather learn about various functions/operations available."
   ]
  },
  {
   "cell_type": "code",
   "execution_count": 5,
   "metadata": {},
   "outputs": [
    {
     "data": {
      "text/html": [
       "<div>\n",
       "<style scoped>\n",
       "    .dataframe tbody tr th:only-of-type {\n",
       "        vertical-align: middle;\n",
       "    }\n",
       "\n",
       "    .dataframe tbody tr th {\n",
       "        vertical-align: top;\n",
       "    }\n",
       "\n",
       "    .dataframe thead th {\n",
       "        text-align: right;\n",
       "    }\n",
       "</style>\n",
       "<table border=\"1\" class=\"dataframe\">\n",
       "  <thead>\n",
       "    <tr style=\"text-align: right;\">\n",
       "      <th></th>\n",
       "      <th>label</th>\n",
       "      <th>text</th>\n",
       "    </tr>\n",
       "  </thead>\n",
       "  <tbody>\n",
       "    <tr>\n",
       "      <th>0</th>\n",
       "      <td>0</td>\n",
       "      <td>i rented i am curious yellow from my video sto...</td>\n",
       "    </tr>\n",
       "    <tr>\n",
       "      <th>1</th>\n",
       "      <td>0</td>\n",
       "      <td>i am curious yellow is a risible and pretenti...</td>\n",
       "    </tr>\n",
       "    <tr>\n",
       "      <th>2</th>\n",
       "      <td>0</td>\n",
       "      <td>if only to avoid making this type of film in t...</td>\n",
       "    </tr>\n",
       "    <tr>\n",
       "      <th>3</th>\n",
       "      <td>0</td>\n",
       "      <td>this film was probably inspired by godard's ma...</td>\n",
       "    </tr>\n",
       "    <tr>\n",
       "      <th>4</th>\n",
       "      <td>0</td>\n",
       "      <td>oh brother after hearing about this ridiculous...</td>\n",
       "    </tr>\n",
       "    <tr>\n",
       "      <th>5</th>\n",
       "      <td>0</td>\n",
       "      <td>i would put this at the top of my list of film...</td>\n",
       "    </tr>\n",
       "    <tr>\n",
       "      <th>6</th>\n",
       "      <td>0</td>\n",
       "      <td>whoever wrote the screenplay for this movie ob...</td>\n",
       "    </tr>\n",
       "    <tr>\n",
       "      <th>7</th>\n",
       "      <td>0</td>\n",
       "      <td>when i first saw a glimpse of this movie i qui...</td>\n",
       "    </tr>\n",
       "    <tr>\n",
       "      <th>8</th>\n",
       "      <td>0</td>\n",
       "      <td>who are these they the actors the filmmakers c...</td>\n",
       "    </tr>\n",
       "    <tr>\n",
       "      <th>9</th>\n",
       "      <td>0</td>\n",
       "      <td>this is said to be a personal film for peter b...</td>\n",
       "    </tr>\n",
       "  </tbody>\n",
       "</table>\n",
       "</div>"
      ],
      "text/plain": [
       "   label                                               text\n",
       "0      0  i rented i am curious yellow from my video sto...\n",
       "1      0   i am curious yellow is a risible and pretenti...\n",
       "2      0  if only to avoid making this type of film in t...\n",
       "3      0  this film was probably inspired by godard's ma...\n",
       "4      0  oh brother after hearing about this ridiculous...\n",
       "5      0  i would put this at the top of my list of film...\n",
       "6      0  whoever wrote the screenplay for this movie ob...\n",
       "7      0  when i first saw a glimpse of this movie i qui...\n",
       "8      0  who are these they the actors the filmmakers c...\n",
       "9      0  this is said to be a personal film for peter b..."
      ]
     },
     "execution_count": 5,
     "metadata": {},
     "output_type": "execute_result"
    }
   ],
   "source": [
    "# Removing html tags and punctuation\n",
    "df['text'] = df['text'].str.lower().str.replace('<br />',' ', regex=False).str.replace(r'[\",:\\-\\(\\)(?...)(?..)]',' ')\n",
    "# Removing extra spaces and replacing sentence ending punctuation with periods\n",
    "df['text'] = df['text'].str.replace('\\s{2,}',' ').str.replace('[.!?]', ' . ')\n",
    "df.head(n=10)"
   ]
  },
  {
   "cell_type": "markdown",
   "metadata": {},
   "source": [
    "## What is this code doing?"
   ]
  },
  {
   "cell_type": "code",
   "execution_count": 6,
   "metadata": {},
   "outputs": [],
   "source": [
    "sample_df = df.sample(frac=0.1, random_state=100)\n",
    "sample_text = sample_df['text'].tolist()\n",
    "sample_labels = sample_df['label'].tolist()"
   ]
  },
  {
   "cell_type": "markdown",
   "metadata": {},
   "source": [
    "## Most common words in positive vs negative\n",
    "\n",
    "Let's use pandas to find out the most common words for positive and negative labels"
   ]
  },
  {
   "cell_type": "code",
   "execution_count": 20,
   "metadata": {},
   "outputs": [
    {
     "data": {
      "text/html": [
       "<div>\n",
       "<style scoped>\n",
       "    .dataframe tbody tr th:only-of-type {\n",
       "        vertical-align: middle;\n",
       "    }\n",
       "\n",
       "    .dataframe tbody tr th {\n",
       "        vertical-align: top;\n",
       "    }\n",
       "\n",
       "    .dataframe thead th {\n",
       "        text-align: right;\n",
       "    }\n",
       "</style>\n",
       "<table border=\"1\" class=\"dataframe\">\n",
       "  <thead>\n",
       "    <tr style=\"text-align: right;\">\n",
       "      <th></th>\n",
       "      <th>text</th>\n",
       "    </tr>\n",
       "    <tr>\n",
       "      <th>label</th>\n",
       "      <th></th>\n",
       "    </tr>\n",
       "  </thead>\n",
       "  <tbody>\n",
       "    <tr>\n",
       "      <th>0</th>\n",
       "      <td>[., not, movie, at, by, film, it's, just, no, from, one, more, even, like, her, about, some, really, good, all]</td>\n",
       "    </tr>\n",
       "    <tr>\n",
       "      <th>1</th>\n",
       "      <td>[., by, not, film, from, movie, at, it's, her, more, has, very, one, she, about, like, all, some, my, just]</td>\n",
       "    </tr>\n",
       "  </tbody>\n",
       "</table>\n",
       "</div>"
      ],
      "text/plain": [
       "                                                                                                                  text\n",
       "label                                                                                                                 \n",
       "0      [., not, movie, at, by, film, it's, just, no, from, one, more, even, like, her, about, some, really, good, all]\n",
       "1          [., by, not, film, from, movie, at, it's, her, more, has, very, one, she, about, like, all, some, my, just]"
      ]
     },
     "execution_count": 20,
     "metadata": {},
     "output_type": "execute_result"
    }
   ],
   "source": [
    "def count_words(grp):\n",
    "    sw_regex = \"(?: with | or | we | the | a | and | of | to | is | this | in | it | i | that | but | was | for | you | are | they | have | had | as | on | he | his | so | an | be | who)\"\n",
    "    return pd.Series(grp.str.cat(sep=' ')).str.replace(sw_regex,\"\",regex=True).str.split(expand=True).iloc[0].value_counts().index[:20].tolist()\n",
    "\n",
    "pd.options.display.max_colwidth = 200\n",
    "\n",
    "# Perform a groupby based on the label and for each group execute count_words\n",
    "grouped_by_label = sample_df.groupby('label').agg({'text':count_words})\n",
    "grouped_by_label.head()"
   ]
  },
  {
   "cell_type": "markdown",
   "metadata": {},
   "source": [
    "## Fitting a tokenizer\n",
    "\n",
    "Keras offers a `Tokenizer` object which will convert words to numerical ids. Each unique word gets an unique ID. The tokenizer offers the following attributes.\n",
    "\n",
    "* index_word - Converts an index to a word\n",
    "* word_index - Converts a word to an index"
   ]
  },
  {
   "cell_type": "code",
   "execution_count": 7,
   "metadata": {},
   "outputs": [],
   "source": [
    "from tensorflow.keras.preprocessing.text import Tokenizer\n",
    "\n",
    "num_words = 1000\n",
    "# Implement a tokenizer that has num_words words and oov_token <unk>\n",
    "tok = ____\n",
    "# Fit the tokenizer on texts\n",
    "tok.fit_on_texts(____)"
   ]
  },
  {
   "cell_type": "markdown",
   "metadata": {},
   "source": [
    "## Converting text to number sequences\n",
    "\n",
    "You can use `texts_to_sequences()` function to convert a list of documents to a list of sequences of integer IDs"
   ]
  },
  {
   "cell_type": "code",
   "execution_count": 22,
   "metadata": {},
   "outputs": [
    {
     "name": "stdout",
     "output_type": "stream",
     "text": [
      "[10, 148, 35, 11, 18, 55, 159, 10, 92, 1, 621, 1, 52, 74, 8, 11, 18, 23, 65, 148, 68, 457, 218, 1, 20, 2, 1, 1, 1, 3, 1, 1, 1, 1, 13, 474, 218, 5, 270, 2, 107, 8, 11, 18, 7, 629, 88, 41, 35, 12, 1, 1, 18, 9, 199, 13, 549, 8, 4, 601, 1, 1, 3, 10, 35, 2, 200, 411, 8, 9, 9, 89, 69, 278, 6, 1, 59, 202, 739, 411, 8, 357, 1, 47, 44, 176, 571, 12, 241, 43, 15, 4, 18, 3, 22, 2, 86, 528, 9, 718, 182, 12, 78, 197, 182, 95, 25, 571, 336, 584, 8, 262, 495, 44, 48, 839, 1, 70, 6, 595, 9, 77, 1, 182, 6, 26, 1, 47, 71, 647, 15, 123, 7, 22, 195, 14, 49, 20, 2, 86, 485, 14, 71, 100, 271, 47, 71, 25, 139, 7, 2, 111, 15, 182, 30, 177, 982]\n"
     ]
    }
   ],
   "source": [
    "# Use texts_to_sequences function to convert sample_text to sequence of IDs\n",
    "sample_seqs = tok.____\n",
    "print(sample_seqs[0])"
   ]
  },
  {
   "cell_type": "code",
   "execution_count": 23,
   "metadata": {},
   "outputs": [
    {
     "name": "stdout",
     "output_type": "stream",
     "text": [
      "Sequence 0 is 157 words long\n",
      "Sequence 1 is 147 words long\n",
      "Sequence 2 is 66 words long\n",
      "Sequence 3 is 83 words long\n",
      "Sequence 4 is 116 words long\n",
      "Sequence 5 is 113 words long\n",
      "Sequence 6 is 205 words long\n",
      "Sequence 7 is 583 words long\n",
      "Sequence 8 is 51 words long\n",
      "Sequence 9 is 79 words long\n"
     ]
    }
   ],
   "source": [
    "# Printing the lengths of some sequences\n",
    "for i, seq in enumerate(sample_seqs[:10]):\n",
    "    print(\"Sequence {} is {} words long\".format(i, len(seq)))"
   ]
  },
  {
   "cell_type": "markdown",
   "metadata": {},
   "source": [
    "## Plotting the length of sentences\n",
    "\n",
    "It is important to know the lengths of the sentences, as we need to fix the number of time steps of the data. That is,\n",
    "\n",
    "* We truncate long sentences short\n",
    "* We pad zeros to the short sentences"
   ]
  },
  {
   "cell_type": "code",
   "execution_count": 24,
   "metadata": {},
   "outputs": [
    {
     "data": {
      "text/plain": [
       "Text(0.5, 0, 'Sentence ID')"
      ]
     },
     "execution_count": 24,
     "metadata": {},
     "output_type": "execute_result"
    },
    {
     "data": {
      "image/png": "[encoded data removed]",
      "text/plain": [
       "<Figure size 1152x432 with 1 Axes>"
      ]
     },
     "metadata": {
      "needs_background": "light"
     },
     "output_type": "display_data"
    }
   ],
   "source": [
    "n_sent = 1000\n",
    "plt.figure(figsize=(16,6))\n",
    "plt.bar(np.arange(0, len(sample_seqs[:n_sent])), [len(seq) for seq in sample_seqs[:n_sent]], 0.8)\n",
    "plt.ylim([0, 1000])\n",
    "plt.ylabel(\"Sentence length\")\n",
    "plt.xlabel(\"Sentence ID\")"
   ]
  },
  {
   "cell_type": "markdown",
   "metadata": {},
   "source": [
    "## Padding sentences\n",
    "\n",
    "Let's see if long sentences have been truncated and short sentences have been padded."
   ]
  },
  {
   "cell_type": "code",
   "execution_count": 25,
   "metadata": {
    "scrolled": true
   },
   "outputs": [
    {
     "name": "stdout",
     "output_type": "stream",
     "text": [
      "Sentence length before padding: 583 / after padding: 200\n",
      "Sentence length before padding: 66 / after padding: 200\n"
     ]
    }
   ],
   "source": [
    "from tensorflow.keras.preprocessing.sequence import pad_sequences\n",
    "\n",
    "padded = pad_sequences(sample_seqs, maxlen=200, padding='pre', truncating='pre')\n",
    "\n",
    "idx = 7 \n",
    "print(\"Sentence length before padding: {} / after padding: {}\".format(len(sample_seqs[idx]), len(padded[idx])))\n",
    "idx = 2\n",
    "print(\"Sentence length before padding: {} / after padding: {}\".format(len(sample_seqs[idx]), len(padded[idx])))"
   ]
  },
  {
   "cell_type": "markdown",
   "metadata": {},
   "source": [
    "## Converting sequence IDs back to words\n",
    "\n",
    "As said previously the `Tokenizer` object offers an attribute called `index_word` which can be used to convert sequence IDs back to words. You'll note that rare words have been replaced with the token `<unk>`."
   ]
  },
  {
   "cell_type": "code",
   "execution_count": 9,
   "metadata": {},
   "outputs": [
    {
     "name": "stdout",
     "output_type": "stream",
     "text": [
      "[10, 148, 35, 11, 18, 55, 159, 10, 92, 1, 621, 1, 52, 74, 8, 11, 18, 23, 65, 148, 68, 457, 218, 1, 20, 2, 1, 1, 1, 3, 1, 1, 1, 1, 13, 474, 218, 5, 270, 2, 107, 8, 11, 18, 7, 629, 88, 41, 35, 12, 1, 1, 18, 9, 199, 13, 549, 8, 4, 601, 1, 1, 3, 10, 35, 2, 200, 411, 8, 9, 9, 89, 69, 278, 6, 1, 59, 202, 739, 411, 8, 357, 1, 47, 44, 176, 571, 12, 241, 43, 15, 4, 18, 3, 22, 2, 86, 528, 9, 718, 182, 12, 78, 197, 182, 95, 25, 571, 336, 584, 8, 262, 495, 44, 48, 839, 1, 70, 6, 595, 9, 77, 1, 182, 6, 26, 1, 47, 71, 647, 15, 123, 7, 22, 195, 14, 49, 20, 2, 86, 485, 14, 71, 100, 271, 47, 71, 25, 139, 7, 2, 111, 15, 182, 30, 177, 982]\n",
      "i actually like this movie even though i don't <unk> james <unk> very much in this movie you can actually see several big <unk> on the <unk> <unk> <unk> and <unk> <unk> <unk> <unk> was already big of course the plot in this movie is simple its just like that <unk> <unk> movie it however was told in a light <unk> <unk> and i like the comedy moments in it it made me trying to <unk> my own important moments in live <unk> what if i've taken that girl out for a movie and not the other etc it tells us that people around us could have taken different roles in our lives if some minute <unk> were to change it also <unk> us to be <unk> what we wish for life is not always as good on the other side as we think maybe what we have now is the best for us all things considered\n"
     ]
    }
   ],
   "source": [
    "seq = tok.texts_to_sequences([sample_text[0]])\n",
    "print(seq[0])\n",
    "print()\n",
    "words = [tok.index_word[i] for i in seq[0]]\n",
    "print(' '.join(words))"
   ]
  },
  {
   "cell_type": "markdown",
   "metadata": {},
   "source": [
    "## More on TensorFlow 2.0\n",
    "\n",
    "TensorFlow 2.0 took a major turn from TF 1.0 as they realized the need to allow dynamic graph creation instead of asking the user to create the computational graph. TF 2.0 introduces several changes such as,\n",
    "\n",
    "* Getting rid of `tf.placeholder`, `tf.variable_scope`\n",
    "* Introducing `AutoGraph` feature\n",
    "* Enabling eager execution by default\n",
    "\n",
    "## Eager execution in TF\n",
    "\n",
    "Eager execution allows TensorFlow to execute its operations immediately as soon as they are defined. In TF 1.0 it was done through a `Session` object."
   ]
  },
  {
   "cell_type": "code",
   "execution_count": 1,
   "metadata": {},
   "outputs": [],
   "source": [
    "import tensorflow as tf"
   ]
  },
  {
   "cell_type": "code",
   "execution_count": 4,
   "metadata": {},
   "outputs": [
    {
     "name": "stdout",
     "output_type": "stream",
     "text": [
      "tf.Tensor([2 3 4 5 6 7], shape=(6,), dtype=int32)\n",
      "[2 3 4 5 6 7]\r\n"
     ]
    }
   ],
   "source": [
    "tf_a = tf.constant([0, 1, 2, 3, 4, 5])\n",
    "# Define tf_b as the result of adding 2 to tf_a\n",
    "tf_b = _____\n",
    "# Print tf_b\n",
    "print(____)\n",
    "tf.print(tf_b)"
   ]
  },
  {
   "cell_type": "markdown",
   "metadata": {},
   "source": [
    "## How does `AutoGraph` work?\n",
    "\n",
    "AutoGraph feature builds TensorFlow data flow graphs dynamically by analyzing Python functions. In order for TensorFlow to know to build the graph, you need to decorate that with `tf.function` decorator."
   ]
  },
  {
   "cell_type": "code",
   "execution_count": 3,
   "metadata": {},
   "outputs": [
    {
     "name": "stdout",
     "output_type": "stream",
     "text": [
      "tf.Tensor([  0 -10 -22 -36], shape=(4,), dtype=int32)\n"
     ]
    }
   ],
   "source": [
    "@tf.function\n",
    "def do_silly_computation(a, b, c):\n",
    "    # Return a + (b*c)\n",
    "\n",
    "tf_a = tf.constant([0,1,2,3])\n",
    "tf_b = tf.constant([-0,-1,-2,-3])\n",
    "tf_c = tf.constant([10,11,12,13])\n",
    "\n",
    "print(do_silly_computation(tf_a, tf_b, tf_c))"
   ]
  },
  {
   "cell_type": "code",
   "execution_count": null,
   "metadata": {},
   "outputs": [],
   "source": []
  }
 ],
 "metadata": {
  "kernelspec": {
   "display_name": "Python 3",
   "language": "python",
   "name": "python3"
  },
  "language_info": {
   "codemirror_mode": {
    "name": "ipython",
    "version": 3
   },
   "file_extension": ".py",
   "mimetype": "text/x-python",
   "name": "python",
   "nbconvert_exporter": "python",
   "pygments_lexer": "ipython3",
   "version": "3.5.6"
  }
 },
 "nbformat": 4,
 "nbformat_minor": 2
}
