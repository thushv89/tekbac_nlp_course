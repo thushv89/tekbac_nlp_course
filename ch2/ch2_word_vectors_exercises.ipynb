{
 "cells": [
  {
   "cell_type": "code",
   "execution_count": 1,
   "metadata": {},
   "outputs": [
    {
     "name": "stderr",
     "output_type": "stream",
     "text": [
      "[nltk_data] Downloading package punkt to\n",
      "[nltk_data]     C:\\Users\\thush\\AppData\\Roaming\\nltk_data...\n",
      "[nltk_data]   Package punkt is already up-to-date!\n",
      "[nltk_data] Downloading package stopwords to\n",
      "[nltk_data]     C:\\Users\\thush\\AppData\\Roaming\\nltk_data...\n",
      "[nltk_data]   Package stopwords is already up-to-date!\n"
     ]
    }
   ],
   "source": [
    "import tarfile\n",
    "from urllib.request import urlretrieve\n",
    "import os\n",
    "import nltk\n",
    "from scipy.sparse import csr_matrix, lil_matrix\n",
    "import numpy as np\n",
    "from scipy.sparse import save_npz, load_npz\n",
    "from tensorflow.python.keras import backend as K\n",
    "import random\n",
    "import matplotlib.pyplot as plt\n",
    "import pandas as pd\n",
    "nltk.download('punkt')\n",
    "nltk.download('stopwords')\n",
    "%matplotlib inline"
   ]
  },
  {
   "cell_type": "markdown",
   "metadata": {},
   "source": [
    "## Onehot encoding\n",
    "\n",
    "In one-hot encoding, you represent a word with ones and zeros. More specifically, one item will be one and rest will be zeros. The index of the element having value one is unique for each word. The length of the vector is determined by the size of the vocabulary."
   ]
  },
  {
   "cell_type": "code",
   "execution_count": 19,
   "metadata": {},
   "outputs": [
    {
     "name": "stdout",
     "output_type": "stream",
     "text": [
      "[[1. 0. 0. 0. 0.]\n",
      " [0. 1. 0. 0. 0.]\n",
      " [0. 0. 1. 0. 0.]\n",
      " [0. 0. 0. 1. 0.]\n",
      " [1. 0. 0. 0. 0.]\n",
      " [0. 0. 0. 0. 1.]]\n"
     ]
    }
   ],
   "source": [
    "from tensorflow.keras.utils import to_categorical\n",
    "\n",
    "doc = \"the cat sat on the mat\"\n",
    "words = doc.split(\" \")\n",
    "word_id_map = {\"the\":0, \"cat\":1, \"sat\":2, \"on\": 3, \"mat\":4}\n",
    "ids = [word_id_map[w] for w in words]\n",
    "\n",
    "oh = to_categorical(ids, num_classes=5)\n",
    "print(oh)\n"
   ]
  },
  {
   "cell_type": "markdown",
   "metadata": {},
   "source": [
    "## Bag of words\n",
    "\n",
    "Bag of words represents a document as a sequence of counts, where each count represents how many times a given word has been present in that document. Note that, the bag of words representation completely disregard the order/flow of words in the document."
   ]
  },
  {
   "cell_type": "code",
   "execution_count": 24,
   "metadata": {},
   "outputs": [
    {
     "name": "stdout",
     "output_type": "stream",
     "text": [
      "[[0 1 1 1 0 0 1 0 1]\n",
      " [0 1 0 1 0 2 1 0 1]\n",
      " [1 0 0 0 1 0 1 1 0]\n",
      " [0 1 1 1 0 0 1 0 1]]\n",
      "{'this': 8, 'the': 6, 'third': 7, 'one': 4, 'document': 1, 'first': 2, 'is': 3, 'and': 0, 'second': 5}\n"
     ]
    }
   ],
   "source": [
    "from sklearn.feature_extraction.text import CountVectorizer\n",
    "corpus = [\n",
    "    'This is the first document.','This is the second second document.',\n",
    "    'And the third one.','Is this the first document?'\n",
    "]\n",
    "vectorizer = CountVectorizer()\n",
    "X = vectorizer.fit_transform(corpus)\n",
    "print(X.toarray())\n",
    "print(vectorizer.vocabulary_)"
   ]
  },
  {
   "cell_type": "markdown",
   "metadata": {},
   "source": [
    "## TF-IDF Computation\n",
    "\n",
    "${TF-IDF} = TF \\times IDF$\n"
   ]
  },
  {
   "cell_type": "code",
   "execution_count": 25,
   "metadata": {},
   "outputs": [
    {
     "name": "stdout",
     "output_type": "stream",
     "text": [
      "[[0.         0.43877674 0.54197657 0.43877674 0.         0.\n",
      "  0.35872874 0.         0.43877674]\n",
      " [0.         0.27230147 0.         0.27230147 0.         0.85322574\n",
      "  0.22262429 0.         0.27230147]\n",
      " [0.55280532 0.         0.         0.         0.55280532 0.\n",
      "  0.28847675 0.55280532 0.        ]\n",
      " [0.         0.43877674 0.54197657 0.43877674 0.         0.\n",
      "  0.35872874 0.         0.43877674]]\n",
      "{'this': 8, 'the': 6, 'third': 7, 'one': 4, 'document': 1, 'first': 2, 'is': 3, 'and': 0, 'second': 5}\n"
     ]
    }
   ],
   "source": [
    "from sklearn.feature_extraction.text import TfidfVectorizer\n",
    "\n",
    "corpus = [\n",
    "    'This is the first document.','This is the second second document.',\n",
    "    'And the third one.','Is this the first document?'\n",
    "]\n",
    "vectorizer = TfidfVectorizer()\n",
    "X = vectorizer.fit_transform(corpus)\n",
    "print(X.toarray())\n",
    "print(vectorizer.vocabulary_)"
   ]
  },
  {
   "cell_type": "markdown",
   "metadata": {},
   "source": [
    "## Downloading the data\n",
    "\n",
    "In order to learn word vectors, we will be using movie reviews data. Here, we are downloading the file and extracting the relevant file."
   ]
  },
  {
   "cell_type": "code",
   "execution_count": 2,
   "metadata": {},
   "outputs": [
    {
     "name": "stdout",
     "output_type": "stream",
     "text": [
      "File exists ...\n",
      "Extracting the file\n",
      "Found and verified datasets\\MovieSummaries.tar.gz\n"
     ]
    }
   ],
   "source": [
    "url = 'http://www.cs.cmu.edu/~ark/personas/data/'\n",
    "\n",
    "def maybe_download(filename, expected_bytes):\n",
    "  \"\"\"Download a file if not present, and make sure it's the right size.\"\"\"\n",
    "  if not os.path.exists(\"datasets\"):\n",
    "    os.mkdir(\"datasets\")\n",
    "  if not os.path.exists(os.path.join(\"datasets\", filename)):\n",
    "    print('Downloading file...')\n",
    "    _, _ = urlretrieve(url + filename, os.path.join(\"datasets\",filename))\n",
    "  else:\n",
    "    print('File exists ...')\n",
    "\n",
    "  print(\"Extracting the file\")\n",
    "  tar = tarfile.open(os.path.join(\"datasets\",filename), \"r:gz\")\n",
    "  tar.extractall(\"datasets\")\n",
    "  tar.close()\n",
    "    \n",
    "  statinfo = os.stat(os.path.join(\"datasets\",filename))\n",
    "  if statinfo.st_size == expected_bytes:\n",
    "    print('Found and verified %s' % os.path.join(\"datasets\",filename))\n",
    "  else:\n",
    "    print(statinfo.st_size)\n",
    "    raise Exception(\n",
    "      'Failed to verify ' + os.path.join(\"datasets\",filename) + '. Can you get to it with a browser?')\n",
    "  return filename\n",
    "\n",
    "filename = maybe_download('MovieSummaries.tar.gz', 48002242)"
   ]
  },
  {
   "cell_type": "markdown",
   "metadata": {},
   "source": [
    "## Reading in the data\n",
    "\n",
    "Reading the rows in the file. Each row contains the synopsis of a movie."
   ]
  },
  {
   "cell_type": "code",
   "execution_count": 3,
   "metadata": {},
   "outputs": [
    {
     "name": "stdout",
     "output_type": "stream",
     "text": [
      "Read in 10000 documents\n"
     ]
    }
   ],
   "source": [
    "def read_data(filename, n_lines):\n",
    "    \"\"\" Reading the zip file to extract text \"\"\"\n",
    "    docs = []\n",
    "    i = 0\n",
    "    with open(filename, 'r', encoding='utf-8') as f:\n",
    "        for row in f:\n",
    "            file_string = nltk.word_tokenize(row)\n",
    "            # First token is the movie ID\n",
    "            docs.append(' '.join(file_string[1:]).lower())\n",
    "            i += 1\n",
    "            if n_lines and i == n_lines:\n",
    "                break\n",
    "    return docs\n",
    "\n",
    "docs = read_data(os.path.join(\"datasets\", \"MovieSummaries\", 'plot_summaries.txt'), 10000)\n",
    "print(\"Read in {} documents\".format(len(docs)))"
   ]
  },
  {
   "cell_type": "markdown",
   "metadata": {},
   "source": [
    "## Exploring the data\n",
    "\n",
    "Let's print a few samples and see what we got."
   ]
  },
  {
   "cell_type": "code",
   "execution_count": 4,
   "metadata": {},
   "outputs": [
    {
     "name": "stdout",
     "output_type": "stream",
     "text": [
      "shlykov , a hard-working taxi driver and lyosha , a saxophonist , develop a bizarre love-hate relationship , and despite their prejudices , realize they are n't so different after all . \n",
      "\n",
      "the nation of panem consists of a wealthy capitol and twelve poorer districts . as punishment for a past rebellion , each district must provide a boy and girl between the ages of 12 and 18 selected by lottery for the annual hunger games . the tributes must fight to the death in an arena ; the sole survivor is rewarded with fame and wealth . in her first reaping , 12-year-old primrose everdeen is chosen from district 12 . her older sister katniss volunteers to take her place . peeta mellark , a baker 's son who once gave katniss bread when she was starving , is the other district 12 tribute . katniss and peeta are taken to the capitol , accompanied by their frequently drunk mentor , past victor haymitch abernathy . he warns them about the `` career '' tributes who train intensively at special academies and almost always win . during a tv interview with caesar flickerman , peeta unexpectedly reveals his love for katniss . she is outraged , believing it to be a ploy to gain audience support , as `` sponsors '' may provide in-games gifts of food , medicine , and tools . however , she discovers peeta meant what he said . the televised games begin with half of the tributes killed in the first few minutes ; katniss barely survives ignoring haymitch 's advice to run away from the melee over the tempting supplies and weapons strewn in front of a structure called the cornucopia . peeta forms an uneasy alliance with the four careers . they later find katniss and corner her up a tree . rue , hiding in a nearby tree , draws her attention to a poisonous tracker jacker nest hanging from a branch . katniss drops it on her sleeping besiegers . they all scatter , except for glimmer , who is killed by the insects . hallucinating due to tracker jacker venom , katniss is warned to run away by peeta . rue cares for katniss for a couple of days until she recovers . meanwhile , the alliance has gathered all the supplies into a pile . katniss has rue draw them off , then destroys the stockpile by setting off the mines planted around it . furious , cato kills the boy assigned to guard it . as katniss runs from the scene , she hears rue calling her name . she finds rue trapped and releases her . marvel , a tribute from district 1 , throws a spear at katniss , but she dodges the spear , causing it to stab rue in the stomach instead . katniss shoots him dead with an arrow . she then comforts the dying rue with a song . afterward , she gathers and arranges flowers around rue 's body . when this is televised , it sparks a riot in rue 's district 11 . president snow summons seneca crane , the gamemaker , to express his displeasure at the way the games are turning out . since katniss and peeta have been presented to the public as `` star-crossed lovers '' , haymitch is able to convince crane to make a rule change to avoid inciting further riots . it is announced that tributes from the same district can win as a pair . upon hearing this , katniss searches for peeta and finds him with an infected sword wound in the leg . she portrays herself as deeply in love with him and gains a sponsor 's gift of soup . an announcer proclaims a feast , where the thing each survivor needs most will be provided . peeta begs her not to risk getting him medicine . katniss promises not to go , but after he falls asleep , she heads to the feast . clove ambushes her and pins her down . as clove gloats , thresh , the other district 11 tribute , kills clove after overhearing her tormenting katniss about killing rue . he spares katniss `` just this time ... for rue '' . the medicine works , keeping peeta mobile . foxface , the girl from district 5 , dies from eating nightlock berries she stole from peeta ; neither knew they are highly poisonous . crane changes the time of day in the arena to late at night and unleashes a pack of hound-like creatures to speed things up . they kill thresh and force katniss and peeta to flee to the roof of the cornucopia , where they encounter cato . after a battle , katniss wounds cato with an arrow and peeta hurls him to the creatures below . katniss shoots cato to spare him a prolonged death . with peeta and katniss apparently victorious , the rule change allowing two winners is suddenly revoked . peeta tells katniss to shoot him . instead , she gives him half of the nightlock . however , before they can commit suicide , they are hastily proclaimed the victors of the 74th hunger games . haymitch warns katniss that she has made powerful enemies after her display of defiance . she and peeta return to district 12 , while crane is locked in a room with a bowl of nightlock berries , and president snow considers the situation . \n",
      "\n",
      "poovalli induchoodan is sentenced for six years prison life for murdering his classmate . induchoodan , the only son of justice maranchery karunakara menon was framed in the case by manapally madhavan nambiar and his crony dysp sankaranarayanan to take revenge on idealist judge menon who had earlier given jail sentence to manapally in a corruption case . induchoodan , who had achieved top rank in indian civil service loses the post and manapally sudheeran ( [ [ saikumar enters the list of civil service trainees . we learn in flashback that it was ramakrishnan the son of moopil nair , who had actually killed his classmate . six years passes by and manapally madhavan nambiar , now a former state minister , is dead and induchoodan , who is all rage at the gross injustice meted out to him - thus destroying his promising life , is released from prison . induchoodan thwarts manapally pavithran from performing the funeral rituals of nambiar at bharathapuzha . many confrontations between induchoodan and manapally 's henchmen follow . induchoodan also falls in love with anuradha ( [ [ aishwarya , the strong-willed and independent-minded daughter of mooppil nair . justice menon and his wife returns back to kerala to stay with induchoodan . there is an appearance of a girl named indulekha ( [ [ kanaka , who claims to be the daughter of justice menon . menon flatly refuses the claim and banishes her . forced by circumstances and at the instigation and help of manapally pavithran , she reluctantly come out open with the claim . induchoodan at first thrashes the protesters . but upon knowing the truth from chandrabhanu his uncle , he accepts the task of her protection in the capacity as elder brother . induchoodan decides to marry off indulekha to his good friend jayakrishnan . induchoodan has a confrontation with his father and prods him to accept mistake and acknowledge the parentage of indulekha . menon ultimately regrets and goes on to confess to his daughter . the very next day , when induchoodan returns to poovally , indulekha is found dead and menon is accused of murdering her . the whole act was planned by pavithran , who after killing indulekha , forces raman nair to testify against menon in court . in court , nandagopal maarar , a close friend of induchoodan and a famous supreme court lawyer , appears for menon and manages to lay bare the murder plot and hidden intentions of other party . menon is judged innocent of the crime by court . after confronting pavithran and promising just retribution to the crime of killing indulekha , induchoodan returns to his father , who now shows remorse for all his actions including not believing in the innocence of his son . but while speaking to induchoodan , menon suffers a heart stroke and passes away . at menon 's funeral , manapally pavithran arrives to poke fun at induchoodan and he also tries to carry out the postponed last rituals of his own father . induchoodan interrupts the ritual and avenges for the death of his sister and father by severely injuring pavithran . on his way back to peaceful life , induchoodan accepts anuradha as his life partner . \n",
      "\n",
      "the lemon drop kid , a new york city swindler , is illegally touting horses at a florida racetrack . after several successful hustles , the kid comes across a beautiful , but gullible , woman intending to bet a lot of money . the kid convinces her to switch her bet , employing a prefabricated con . unfortunately for the kid , the woman `` belongs '' to notorious gangster moose moran , as does the money . the kid 's choice finishes dead last and a furious moran demands the kid provide him with $ 10,000 by christmas eve , or the kid `` wo n't make it to new year 's . '' the kid decides to return to new york to try to come up with the money . he first tries his on-again , off-again girlfriend brainy baxter . however , when talk of long-term commitment arises , the kid quickly makes an escape . he next visits local crime boss `` oxford '' charley , with whom he has had past dealings . this falls through as charley is in serious tax trouble and does not particularly care for the kid anyway . as he leaves charley 's establishment and is about to give up hope , the kid notices a cornerside santa claus and his kettle . thinking quickly , the kid fashions himself a santa suit and begins collecting donations . this fails as he is recognized by a passing policeman , who remembers his previous underhanded activity well . the kid lands in court , where he is convicted of collecting for a charity without a license and sentenced to ten days in jail . however , while in court , the kid learns where his scheme went wrong . after a short stay , brainy arrives to bail him out . he then sets about restarting his santa operation , this time with legitimate backing . to this end , he needs a charity to represent and a city license . the kid receives key inspiration when he remembers that nellie thursday , a kindly neighborhood resident , has been denied entry to a retirement home because of her jailed husband 's criminal past as a safecracker . organizing other small-time new york swindlers and brainy , who is both surprised and charmed at the kid 's apparent goodwill , the kid converts an abandoned casino into the `` nellie thursday home for old dolls '' . a small group of elderly women and makeshift amenities complete the project . the kid is able to receive the all-important city license . now free to collect , the kid and his compatriots dress as santa claus and position themselves throughout manhattan . the others are unaware that the kid plans to keep the money for himself to pay off moran . the scheme is a huge success , netting $ 2,000 in only a few days . an overjoyed brainy decides to leave her job as a dancer and look after the `` home '' full-time until after christmas . coincidentally , her employer is none other than `` oxford '' charley , whom brainy cheerfully informs of the effort . seeing a potential gold mine , charley decides to muscle in on the operation . reasoning that the nellie thursday home is `` wherever nellie thursday is '' , charley and his crew kidnap the home 's inhabitants and move them to charley 's mansion in nyack . the kid learns of this when he returns to the home after a late night to find the home deserted and money gone . clued in by oversized oxford footprints in the snow , the kid and his friends pay charley a visit . here , charley reveals the true nature of the kid 's scheme through a phone conversation with moose moran . the kid 's accomplices are angry and move to confront him , but the kid manages to slip away . however , brainy tracks him down outside and voices her disgust at his actions . after a few days of stewing in self-pity , the kid is surprised to meet nellie , who has escaped charley 's compound . he decides to recover the money , sneaking into charley 's home in the guise of an elderly woman . he finds that charley and his crew are again moving the women , this time to a more secure location . using the heightened activity to his advantage , the kid enters charley 's office and confronts him . after a brief struggle , the kid overpowers charley and makes off with the money , narrowly avoiding the thugs charley has sent after him . the ensuing chaos allows brainy and the others to escape . later that night , the kid returns to the original nellie thursday home to meet with moose moran . the deal appears to be in jeopardy as moran arrives with charley . charley demands that the kid reimburse him , which would leave too little for moran . however , the kid turns the tables by hitting a switch , revealing hidden casino tables . all are occupied , mainly by the escaped old dolls . the kid and his still-loyal friends hold off the gangsters as the police initiate a raid . moran and charley are arrested while the judge who sentenced the kid earlier warns that he will be `` keeping an eye on him '' . the kid assures him that will not be necessary and his attention will lie on the home , which is going to become a reality . the night 's main event begins as nellie 's husband henry , free on parole , joyously reunites with his wife . \n",
      "\n",
      "seventh-day adventist church pastor michael chamberlain , his wife lindy , their two sons , and their nine-week-old daughter azaria are on a camping holiday in the outback . with the baby sleeping in their tent , the family is enjoying a barbecue with their fellow campers when a cry is heard . lindy returns to the tent to check on azaria and is certain she sees a dingo with something in its mouth running off as she approaches . when she discovers the infant is missing , everyone joins forces to search for her , without success . it is assumed what lindy saw was the animal carrying off the child , and a subsequent inquest rules her account of events is true . the tide of public opinion soon turns against the chamberlains . for many , lindy seems too stoic , too cold-hearted , and too accepting of the disaster that has befallen her . gossip about her begins to swell and soon is accepted as statements of fact . the couple 's beliefs are not widely practised in the country , and when the media report a rumour that the name azaria means `` sacrifice in the wilderness '' , the public is quick to believe they decapitated their baby with a pair of scissors as part of a bizarre religious rite . law-enforcement officials find new witnesses , forensics experts , and a lot of circumstantial evidence—including a small wooden coffin michael uses as a receptacle for his parishioners ' packs of un-smoked cigarettes—and reopen the investigation , and eventually lindy is charged with murder . seven months pregnant , she ignores her attorneys ' advice to play on the jury 's sympathy and appears emotionless on the stand , convincing onlookers she is guilty of the crime of which she is accused . as the trial progresses , michael 's faith in his religion and his belief in his wife disintegrate , and he stumbles through his testimony , suggesting he is concealing the truth . in october 1982 , lindy is found guilty and sentenced to life imprisonment with hard labour , while michael is found guilty as an accessory and given an 18-month suspended sentence . more than three years later , while searching for the body of an english tourist who fell from uluru , police discover a small item of clothing that is identified as the jacket lindy had insisted azaria was wearing over her jumpsuit , which had been recovered early in the investigation . she is immediately released from prison , the case reopened and all convictions against the chamberlains overturned . \n",
      "\n"
     ]
    }
   ],
   "source": [
    "for d in docs[:5]:\n",
    "    print(d,'\\n')"
   ]
  },
  {
   "cell_type": "markdown",
   "metadata": {},
   "source": [
    "## Cleaning up data\n",
    "\n",
    "The following simple preprocessing steps are done to clean the data.\n",
    "\n",
    "* Remove any stop words\n",
    "* Remove any punctuation"
   ]
  },
  {
   "cell_type": "code",
   "execution_count": 5,
   "metadata": {},
   "outputs": [
    {
     "data": {
      "text/plain": [
       "0    shlykov   hard working tax driver lyosha   sax...\n",
       "1    the nation panem consists wealthy capitol twel...\n",
       "2    poovall induchoodan sentenced six years prison...\n",
       "3    the lemon drop kid   new york city swindler   ...\n",
       "4    seventh day adventist church pastor michael ch...\n",
       "dtype: object"
      ]
     },
     "execution_count": 5,
     "metadata": {},
     "output_type": "execute_result"
    }
   ],
   "source": [
    "from nltk.corpus import stopwords \n",
    "stop_words = list(stopwords.words('english')) \n",
    "sw_regex = r'(?:' + ' | '.join([sw for sw in stop_words]) + ')'\n",
    "punct_regex = r'[.,\\/#!$%\\^&\\*;:{}=\\-_`~()]'\n",
    "\n",
    "ser = pd.Series(docs)\n",
    "# We are doing the stop word regex twice, as otherwise when two stopwords occur together\n",
    "# they are not replaced (e.g. 'for the')\n",
    "ser = ser.str.replace(sw_regex, ' ')\n",
    "ser = ser.str.replace(sw_regex, ' ')\n",
    "ser = ser.str.replace(punct_regex, ' ')\n",
    "ser.head()"
   ]
  },
  {
   "cell_type": "markdown",
   "metadata": {},
   "source": [
    "## Plotting the frequency of words\n",
    "\n",
    "Getting the counts of words in our text corpus and plotting the word frequencies."
   ]
  },
  {
   "cell_type": "code",
   "execution_count": 6,
   "metadata": {},
   "outputs": [],
   "source": [
    "from collections import Counter\n",
    "\n",
    "corpus = ser.str.cat(sep=' ').split(' ')\n",
    "word_count = Counter(corpus).most_common()\n",
    "\n",
    "words, counts = zip(*word_count)\n"
   ]
  },
  {
   "cell_type": "code",
   "execution_count": 7,
   "metadata": {},
   "outputs": [
    {
     "data": {
      "text/plain": [
       "([<matplotlib.axis.XTick at 0x2323e07eb38>,\n",
       "  <matplotlib.axis.XTick at 0x23245b47518>,\n",
       "  <matplotlib.axis.XTick at 0x2324592cd30>,\n",
       "  <matplotlib.axis.XTick at 0x2324c162550>,\n",
       "  <matplotlib.axis.XTick at 0x2324c162be0>,\n",
       "  <matplotlib.axis.XTick at 0x2324c16b160>,\n",
       "  <matplotlib.axis.XTick at 0x2324c16b5c0>,\n",
       "  <matplotlib.axis.XTick at 0x2324c16bac8>,\n",
       "  <matplotlib.axis.XTick at 0x2324c16bcf8>,\n",
       "  <matplotlib.axis.XTick at 0x2324c16f518>,\n",
       "  <matplotlib.axis.XTick at 0x2324c16b710>,\n",
       "  <matplotlib.axis.XTick at 0x2324c162ba8>,\n",
       "  <matplotlib.axis.XTick at 0x2324c16fba8>,\n",
       "  <matplotlib.axis.XTick at 0x2324c1750b8>,\n",
       "  <matplotlib.axis.XTick at 0x2324c175550>,\n",
       "  <matplotlib.axis.XTick at 0x2324c175a58>,\n",
       "  <matplotlib.axis.XTick at 0x2324c175f60>,\n",
       "  <matplotlib.axis.XTick at 0x2324c17a4a8>,\n",
       "  <matplotlib.axis.XTick at 0x2324c17a9b0>,\n",
       "  <matplotlib.axis.XTick at 0x2324c17aeb8>,\n",
       "  <matplotlib.axis.XTick at 0x2324c17aa90>,\n",
       "  <matplotlib.axis.XTick at 0x2324c175518>,\n",
       "  <matplotlib.axis.XTick at 0x2324c17e2b0>,\n",
       "  <matplotlib.axis.XTick at 0x2324c17e748>,\n",
       "  <matplotlib.axis.XTick at 0x2324c17ec50>,\n",
       "  <matplotlib.axis.XTick at 0x2324c185198>,\n",
       "  <matplotlib.axis.XTick at 0x2324c1856a0>,\n",
       "  <matplotlib.axis.XTick at 0x2324c185ba8>,\n",
       "  <matplotlib.axis.XTick at 0x2324c189160>,\n",
       "  <matplotlib.axis.XTick at 0x2324c185668>,\n",
       "  <matplotlib.axis.XTick at 0x2324c17e7f0>,\n",
       "  <matplotlib.axis.XTick at 0x2324c1894e0>,\n",
       "  <matplotlib.axis.XTick at 0x2324c1899b0>,\n",
       "  <matplotlib.axis.XTick at 0x2324c189eb8>,\n",
       "  <matplotlib.axis.XTick at 0x2324c18f400>,\n",
       "  <matplotlib.axis.XTick at 0x2324c18f908>,\n",
       "  <matplotlib.axis.XTick at 0x2324c18fe10>,\n",
       "  <matplotlib.axis.XTick at 0x2324c194358>,\n",
       "  <matplotlib.axis.XTick at 0x2324c18f8d0>,\n",
       "  <matplotlib.axis.XTick at 0x2324c189a90>,\n",
       "  <matplotlib.axis.XTick at 0x2324c194518>,\n",
       "  <matplotlib.axis.XTick at 0x2324c194cf8>,\n",
       "  <matplotlib.axis.XTick at 0x2324c19b240>,\n",
       "  <matplotlib.axis.XTick at 0x2324c19b748>,\n",
       "  <matplotlib.axis.XTick at 0x2324c19bc50>,\n",
       "  <matplotlib.axis.XTick at 0x2324c19f198>,\n",
       "  <matplotlib.axis.XTick at 0x2324c19f6a0>,\n",
       "  <matplotlib.axis.XTick at 0x2324c19b7f0>,\n",
       "  <matplotlib.axis.XTick at 0x2324c194a90>,\n",
       "  <matplotlib.axis.XTick at 0x2324c19fe48>],\n",
       " <a list of 50 Text xticklabel objects>)"
      ]
     },
     "execution_count": 7,
     "metadata": {},
     "output_type": "execute_result"
    },
    {
     "data": {
      "image/png": "[encoded data removed]",
      "text/plain": [
       "<Figure size 864x432 with 1 Axes>"
      ]
     },
     "metadata": {
      "needs_background": "light"
     },
     "output_type": "display_data"
    }
   ],
   "source": [
    "plt.figure(figsize=(12,6))\n",
    "x = np.arange(50)\n",
    "plt.bar(x, counts[1:51], width=0.5)\n",
    "plt.xticks(x, words[1:51], rotation='vertical')"
   ]
  },
  {
   "cell_type": "code",
   "execution_count": 8,
   "metadata": {},
   "outputs": [],
   "source": [
    "import tensorflow as tf\n",
    "from tensorflow.keras.preprocessing.text import Tokenizer\n",
    "from tensorflow.keras.layers import Dense, Embedding, Input, Add, Dot, Reshape, Flatten\n",
    "from tensorflow.keras.optimizers import Adam\n",
    "from tensorflow.keras.preprocessing.sequence import skipgrams\n",
    "from tensorflow.keras.models import Model, load_model\n",
    "from tensorflow.keras.utils import plot_model\n",
    "\n",
    "gpus = tf.config.experimental.list_physical_devices('GPU')\n",
    "tf.config.experimental.set_memory_growth(gpus[0], True)"
   ]
  },
  {
   "cell_type": "markdown",
   "metadata": {},
   "source": [
    "## Defining the tokenizer\n",
    "\n",
    "Defining a tokenizer to learn the word to index mapping. We will also replace any rare word with `UNK` token."
   ]
  },
  {
   "cell_type": "code",
   "execution_count": 9,
   "metadata": {},
   "outputs": [],
   "source": [
    "docs = ser.tolist()\n",
    "v_size = 3000\n",
    "# Define a tokenizer num_words v_size and oov_token UNK\n",
    "tokenizer = ____\n",
    "# Fit the text \n",
    "tokenizer.____(____)"
   ]
  },
  {
   "cell_type": "markdown",
   "metadata": {},
   "source": [
    "## Computing the co-occurence matrix\n",
    "\n",
    "Computes the co-occurence matrix and save it to the disk can either load the existing matrix or compute a new one by changing `generate_cooc` variable."
   ]
  },
  {
   "cell_type": "code",
   "execution_count": 10,
   "metadata": {},
   "outputs": [
    {
     "name": "stdout",
     "output_type": "stream",
     "text": [
      "Cooc matrix of type lil_matrix was loaded from disk\n"
     ]
    }
   ],
   "source": [
    "generate_cooc = False\n",
    "def generate_cooc_matrix(text, tokenizer, window_size, n_vocab, use_weighting=True):\n",
    "    sequences = tokenizer.texts_to_sequences(text)\n",
    "    \n",
    "    cooc_mat = lil_matrix((n_vocab, n_vocab), dtype=np.float32)\n",
    "    for sequence in sequences:\n",
    "        for i, wi in zip(np.arange(window_size, len(sequence)-window_size), sequence[window_size:-window_size]):\n",
    "            context_window = sequence[i-window_size: i+window_size+1]\n",
    "            distances = np.abs(np.arange(-window_size, window_size+1))\n",
    "            distances[window_size] = 1.0\n",
    "            nom = np.ones(shape=(window_size*2 + 1,), dtype=np.float32)\n",
    "            nom[window_size] = 0.0\n",
    "\n",
    "            if use_weighting:\n",
    "                cooc_mat[wi, context_window] += nom/distances    # Update element\n",
    "            else:\n",
    "                cooc_mat[wi, context_window] += nom\n",
    "    \n",
    "    return cooc_mat    \n",
    "\n",
    "if generate_cooc:\n",
    "    cooc_mat = generate_cooc_matrix(docs, tokenizer, 4, v_size, True)\n",
    "    save_npz(os.path.join('datasets','cooc_mat.npz'), cooc_mat.tocsr())\n",
    "else:\n",
    "    cooc_mat = load_npz(os.path.join('datasets','cooc_mat.npz')).tolil()\n",
    "    print('Cooc matrix of type {} was loaded from disk'.format(type(cooc_mat).__name__))"
   ]
  },
  {
   "cell_type": "markdown",
   "metadata": {},
   "source": [
    "## Validating the co-occurrence matrix\n",
    "Taking a specific word and plotting the frequencies of the most common 25 co-occurinng words. Making sure that the word distribution makes sense (Zif's law) and the co-occuring words are valid (visually)"
   ]
  },
  {
   "cell_type": "code",
   "execution_count": 11,
   "metadata": {},
   "outputs": [
    {
     "data": {
      "text/plain": [
       "([<matplotlib.axis.XTick at 0x2324c8a9c50>,\n",
       "  <matplotlib.axis.XTick at 0x2324c8ac320>,\n",
       "  <matplotlib.axis.XTick at 0x2324c8ac5c0>,\n",
       "  <matplotlib.axis.XTick at 0x232581ae5c0>,\n",
       "  <matplotlib.axis.XTick at 0x232581aec50>,\n",
       "  <matplotlib.axis.XTick at 0x232581b3198>,\n",
       "  <matplotlib.axis.XTick at 0x232581b3630>,\n",
       "  <matplotlib.axis.XTick at 0x232581b3b00>,\n",
       "  <matplotlib.axis.XTick at 0x232581b3d30>,\n",
       "  <matplotlib.axis.XTick at 0x232581b84e0>,\n",
       "  <matplotlib.axis.XTick at 0x232581b89b0>,\n",
       "  <matplotlib.axis.XTick at 0x232581b3f98>,\n",
       "  <matplotlib.axis.XTick at 0x232581ae860>,\n",
       "  <matplotlib.axis.XTick at 0x232581b8160>,\n",
       "  <matplotlib.axis.XTick at 0x232581bd2b0>,\n",
       "  <matplotlib.axis.XTick at 0x232581bd780>,\n",
       "  <matplotlib.axis.XTick at 0x232581bdc50>,\n",
       "  <matplotlib.axis.XTick at 0x232581c3198>,\n",
       "  <matplotlib.axis.XTick at 0x232581c3630>,\n",
       "  <matplotlib.axis.XTick at 0x232581c3b00>,\n",
       "  <matplotlib.axis.XTick at 0x232581c3d30>,\n",
       "  <matplotlib.axis.XTick at 0x232581bdcf8>,\n",
       "  <matplotlib.axis.XTick at 0x232581b85c0>,\n",
       "  <matplotlib.axis.XTick at 0x232581c8390>,\n",
       "  <matplotlib.axis.XTick at 0x232581c8860>],\n",
       " <a list of 25 Text xticklabel objects>)"
      ]
     },
     "execution_count": 11,
     "metadata": {},
     "output_type": "execute_result"
    },
    {
     "data": {
      "image/png": "[encoded data removed]",
      "text/plain": [
       "<Figure size 1152x576 with 1 Axes>"
      ]
     },
     "metadata": {
      "needs_background": "light"
     },
     "output_type": "display_data"
    }
   ],
   "source": [
    "word = 'cat'\n",
    "assert word in tokenizer.word_index, 'Word {} is not in the tokenizer'.format(word)\n",
    "assert tokenizer.word_index[word] <= v_size, 'The word {} is an out of vocabuary word. Please try something else'.format(word)\n",
    "\n",
    "rev_word_index = dict(zip(tokenizer.word_index.values(), tokenizer.word_index.keys()))\n",
    "\n",
    "cooc_vec = np.array(cooc_mat.getrow(tokenizer.word_index[word]).todense()).ravel()\n",
    "max_ind = np.argsort(cooc_vec)[-25:]\n",
    "#print(max_ind)\n",
    "plt.figure(figsize=(16,8))\n",
    "plt.bar(np.arange(0, 25), cooc_vec[max_ind])\n",
    "plt.xticks(ticks=np.arange(0, 25), labels=[rev_word_index[i] for i in max_ind], rotation=60)"
   ]
  },
  {
   "cell_type": "markdown",
   "metadata": {},
   "source": [
    "## Defining GloVe model with Keras\n",
    "\n",
    "In order to define the GloVe model, a custom loss function is required. However, GloVe loss essentially boils down to a mean square error, which makes it easier to define as a custom loss function. Let's have a quick look. GloVe loss is defined as,\n",
    "\n",
    "$J = \\sum_{i,j=1}^{V} f(X_{ij})(w_i^T\\tilde{w}_j + b_i + \\tilde{b}_j - log(X_{ij}))^2$\n",
    "\n",
    "where $X_{ij}$ is the $i,j$ cell of the co-occurence matrix and $w,\\tilde{w},b,\\tilde{b}$ are weights and biases. For a full explanation refer the [original paper](https://nlp.stanford.edu/pubs/glove.pdf). When you play around with parenthesis you will start seeing the squared loss.\n",
    "\n",
    "$J = \\sum_{i,j=1}^{V} f(X_{ij})\\{(w_i^T\\tilde{w}_j + b_i + \\tilde{b}_j) - log(X_{ij})\\}^2$, \n",
    "\n",
    "which is like,\n",
    "\n",
    "$J = \\sum A ( B - C)^2$\n"
   ]
  },
  {
   "cell_type": "code",
   "execution_count": 30,
   "metadata": {},
   "outputs": [],
   "source": [
    "def create_glove_model(v_size):\n",
    "    \n",
    "    # Define w_i; an Input layer which has size [None] (with batch dimension)\n",
    "    w_i = ____\n",
    "    # Define w_j; an Input layer which has size [None] (with batch dimension)\n",
    "    w_j = ____\n",
    "    \n",
    "    # Embedding layers for words i and j\n",
    "    # Get the output of an Embedding layer (96 dimensions)\n",
    "    emb_i = ____(____)\n",
    "    emb_j = ____(____)\n",
    "\n",
    "    # Create the dot product of above two inputs\n",
    "    ij_dot = Dot(axes=-1)(____)\n",
    "    \n",
    "    # Bias embedding layers wor words i and j\n",
    "    # Get b_i and b_j using two Embedding layers with size 1\n",
    "    b_i = ____(____)\n",
    "    b_j = ____(____)\n",
    "\n",
    "    pred = Add()([____, ____, ____])\n",
    "\n",
    "    def glove_loss(y_true, y_pred):\n",
    "        \"\"\" Defining the GloVe loss \"\"\"\n",
    "        return K.sum(\n",
    "            K.pow((y_true-1)/100.0, 0.75)*K.square(y_pred - K.log(y_true))\n",
    "        )\n",
    "\n",
    "    model = Model(inputs=[____, ____],outputs=____)\n",
    "    # Compiling the model with the defined loss and an optimizer\n",
    "    model.compile(loss=____, optimizer =Adam(lr=0.0001))\n",
    "    return model\n"
   ]
  },
  {
   "cell_type": "markdown",
   "metadata": {},
   "source": [
    "## Clearning session and analysing the model"
   ]
  },
  {
   "cell_type": "code",
   "execution_count": 31,
   "metadata": {},
   "outputs": [
    {
     "name": "stdout",
     "output_type": "stream",
     "text": [
      "Model: \"model\"\n",
      "__________________________________________________________________________________________________\n",
      "Layer (type)                    Output Shape         Param #     Connected to                     \n",
      "==================================================================================================\n",
      "input_1 (InputLayer)            [(None,)]            0                                            \n",
      "__________________________________________________________________________________________________\n",
      "input_2 (InputLayer)            [(None,)]            0                                            \n",
      "__________________________________________________________________________________________________\n",
      "embedding (Embedding)           (None, 96)           288000      input_1[0][0]                    \n",
      "__________________________________________________________________________________________________\n",
      "embedding_1 (Embedding)         (None, 96)           288000      input_2[0][0]                    \n",
      "__________________________________________________________________________________________________\n",
      "dot (Dot)                       (None, 1)            0           embedding[0][0]                  \n",
      "                                                                 embedding_1[0][0]                \n",
      "__________________________________________________________________________________________________\n",
      "embedding_2 (Embedding)         (None, 1)            3000        input_1[0][0]                    \n",
      "__________________________________________________________________________________________________\n",
      "embedding_3 (Embedding)         (None, 1)            3000        input_2[0][0]                    \n",
      "__________________________________________________________________________________________________\n",
      "add (Add)                       (None, 1)            0           dot[0][0]                        \n",
      "                                                                 embedding_2[0][0]                \n",
      "                                                                 embedding_3[0][0]                \n",
      "==================================================================================================\n",
      "Total params: 582,000\n",
      "Trainable params: 582,000\n",
      "Non-trainable params: 0\n",
      "__________________________________________________________________________________________________\n"
     ]
    }
   ],
   "source": [
    "K.clear_session()\n",
    "\n",
    "model = create_glove_model(v_size)\n",
    "model.summary()"
   ]
  },
  {
   "cell_type": "markdown",
   "metadata": {},
   "source": [
    "## Run and eval Glove\n",
    "\n",
    "Here, we are doing the following.\n",
    "\n",
    "For each epoch,\n",
    "\n",
    "* Shuffle the data\n",
    "* Generate a batch of skip-gram word pairs\n",
    "* Perform `model.fit()`\n",
    "* Evaluate the loss"
   ]
  },
  {
   "cell_type": "code",
   "execution_count": 35,
   "metadata": {},
   "outputs": [
    {
     "name": "stdout",
     "output_type": "stream",
     "text": [
      "Loss in epoch 0: 33941.88187703899\n",
      "Loss in epoch 1: 14.157527599161725\n",
      "Loss in epoch 2: 6.717716845648533\n",
      "Loss in epoch 3: 3.9831158131665534\n",
      "Loss in epoch 4: 2.76027855365505\n",
      "Loss in epoch 5: 2.113772107243788\n",
      "Loss in epoch 6: 1.7043591649574628\n",
      "Loss in epoch 7: 1.4062234117514978\n",
      "Loss in epoch 8: 1.190997126159213\n",
      "Loss in epoch 9: 1.0219524332704397\n"
     ]
    }
   ],
   "source": [
    "cooc_mat = load_npz(os.path.join('datasets','cooc_mat.npz'))\n",
    "batch_size =128\n",
    "copy_docs = list(docs[:2000])\n",
    "index2word = dict(zip(tokenizer.word_index.values(), tokenizer.word_index.keys()))\n",
    "\"\"\" Each epoch \"\"\"\n",
    "for ep in range(10):\n",
    "    \n",
    "    #valid_words = get_valid_words(docs, 20, tokenizer)\n",
    "    \n",
    "    random.shuffle(copy_docs)\n",
    "    losses = []\n",
    "    \"\"\" Each document (i.e. movie plot) \"\"\"\n",
    "    for doc in copy_docs:\n",
    "        \n",
    "        seq = tokenizer.texts_to_sequences([doc])[0]\n",
    "\n",
    "        \"\"\" Getting skip-gram data \"\"\"\n",
    "        # Negative samples are automatically sampled by tf loss function\n",
    "        wpairs, labels = skipgrams(\n",
    "            sequence=seq, vocabulary_size=v_size, negative_samples=0.0, shuffle=True\n",
    "        )\n",
    "        \n",
    "        if len(wpairs)==0:\n",
    "            continue\n",
    "\n",
    "        sg_in, sg_out = zip(*wpairs)\n",
    "        sg_in, sg_out = np.array(sg_in).reshape(-1), np.array(sg_out).reshape(-1)\n",
    "        x_ij = cooc_mat[sg_in, sg_out].reshape(-1,1) + 1\n",
    "        \n",
    "        assert np.all(np.array(labels)==1)\n",
    "        assert x_ij.shape[0] == sg_in.shape[0], 'X_ij {} shape does not sg_in {}'.format(x_ij.shape, sg_in.shape)\n",
    "        \n",
    "        \n",
    "        # Define correct inputs and outputs for model.fit() and model.evaluate()\n",
    "        model.fit([____, ____], ____, batch_size = batch_size, epochs=1, verbose=0)\n",
    "        l = model.evaluate(____, ____, batch_size=batch_size, verbose=0)\n",
    "        \n",
    "        \n",
    "        losses.append(l)\n",
    "    print('Loss in epoch {}: {}'.format(ep, np.mean(losses)))\n"
   ]
  },
  {
   "cell_type": "markdown",
   "metadata": {},
   "source": [
    "## Understanding how skipgrams work"
   ]
  },
  {
   "cell_type": "code",
   "execution_count": null,
   "metadata": {},
   "outputs": [],
   "source": []
  },
  {
   "cell_type": "markdown",
   "metadata": {},
   "source": [
    "## Saving the model and the embeddings to the disk"
   ]
  },
  {
   "cell_type": "code",
   "execution_count": 15,
   "metadata": {},
   "outputs": [],
   "source": [
    "def save_embeddings(model,save_dir, tok, v_size):\n",
    "    \"\"\" Saving data to disk \"\"\"\n",
    "    \n",
    "    # We need to add the 0th index to word list manually\n",
    "    word_list = [\"RESERVED\"]+[tok.index_word[w_i] for w_i in range(1,v_size)]\n",
    "    emb_w_df = None\n",
    "    for layer in model.layers:\n",
    "        if 'embedding' == layer.name or 'embedding_1' == layer.name:\n",
    "            if emb_w_df is None:\n",
    "                emb_w_df = pd.DataFrame(layer.get_weights()[0])\n",
    "            else:\n",
    "                emb_w_df += layer.get_weights()[0]\n",
    "    \n",
    "    emb_w_df.insert(0, \"word\", word_list)\n",
    "            \n",
    "    emb_w_df.to_csv(\n",
    "        os.path.join(save_dir, 'embeddings_w.csv'), index=False, header=None\n",
    "    )\n",
    "    \n",
    "save_embeddings(model, 'datasets', tokenizer, v_size)\n",
    "model.save('glove_model.h5')"
   ]
  },
  {
   "cell_type": "markdown",
   "metadata": {},
   "source": [
    "## Printing out some similar words of a set of valid words"
   ]
  },
  {
   "cell_type": "code",
   "execution_count": 16,
   "metadata": {},
   "outputs": [
    {
     "name": "stdout",
     "output_type": "stream",
     "text": [
      "Loading the word embeddings from the disk\n",
      "Embedding shape: (3000, 96)\n",
      "UNK: pedro, franklin, andrea, giovann, mitch\n",
      "returns: home, finds, gone, returning, return\n",
      "husband: wife, her, mistress, mary, son\n",
      "falls: fell, instantly, deeply, express, asleep\n",
      "UNK: pedro, franklin, andrea, giovann, mitch\n",
      "race: horse, human, drawn, remove, match\n",
      "along: way, makes, make, appearance, came\n",
      "women: men, lovers, two, sons, sisters\n",
      "estranged: logan, deceased, avenge, adopted, her\n",
      "former: lover, girlfriend, lawyer, al, partner\n",
      "pursue: career, hires, teaches, research, beneath\n",
      "story: flashback, based, told, follows, begins\n",
      "london: england, turned, transforms, pulled, bringing\n",
      "UNK: pedro, franklin, andrea, giovann, mitch\n",
      "heart: suffers, attack, broken, change, suffered\n",
      "UNK: pedro, franklin, andrea, giovann, mitch\n",
      "UNK: pedro, franklin, andrea, giovann, mitch\n",
      "woman: named, man, beautiful, blonde, attractive\n",
      "UNK: pedro, franklin, andrea, giovann, mitch\n",
      "UNK: pedro, franklin, andrea, giovann, mitch\n",
      "room: hotel, enters, motel, locked, staying\n",
      "discovers: learns, finds, learn, worried, happiness\n",
      "children: daughters, men, brothers, kids, orders\n",
      "children: daughters, men, brothers, kids, orders\n",
      "clear: obsessed, apparent, attracted, increasingly, aware\n",
      "escapes: paris, tracks, thrown, escaped, land\n",
      "long: lost, suffering, enough, hair, faith\n",
      "project: pop, training, experiment, diamonds, equipment\n",
      "UNK: pedro, franklin, andrea, giovann, mitch\n",
      "human: form, race, serve, plant, sacrifice\n",
      "UNK: pedro, franklin, andrea, giovann, mitch\n",
      "disease: failure, jim, pete, system, guilt\n",
      "UNK: pedro, franklin, andrea, giovann, mitch\n",
      "named: woman, pretty, mysterious, boy, young\n",
      "girl: boy, little, pretty, meets, named\n",
      "shekhar: jill, lab, barbara, juan, amy\n",
      "waiting: outside, filled, spanish, flees, waits\n",
      "flashback: narrator, involves, told, story, saw\n",
      "UNK: pedro, franklin, andrea, giovann, mitch\n",
      "UNK: pedro, franklin, andrea, giovann, mitch\n",
      "UNK: pedro, franklin, andrea, giovann, mitch\n",
      "UNK: pedro, franklin, andrea, giovann, mitch\n",
      "travels: paris, fights, chicago, build, started\n",
      "killed: nearly, shot, attacked, murdered, raped\n",
      "UNK: pedro, franklin, andrea, giovann, mitch\n",
      "UNK: pedro, franklin, andrea, giovann, mitch\n",
      "town: small, southern, village, fictional, nearby\n",
      "'s: rachel, susan, julie, george, joey\n",
      "help: offers, seek, enlists, seeks, needs\n",
      "hollywood: actor, drama, played, star, experiences\n",
      "UNK: pedro, franklin, andrea, giovann, mitch\n",
      "get: engaged, argument, ready, hoping, going\n",
      "UNK: pedro, franklin, andrea, giovann, mitch\n",
      "UNK: pedro, franklin, andrea, giovann, mitch\n",
      "UNK: pedro, franklin, andrea, giovann, mitch\n",
      "powers: uses, power, magical, public, pain\n",
      "UNK: pedro, franklin, andrea, giovann, mitch\n",
      "villain: rachel, charlotte, anthony, jim, stephen\n",
      "UNK: pedro, franklin, andrea, giovann, mitch\n",
      "back: brings, brought, came, coming, bring\n",
      "UNK: pedro, franklin, andrea, giovann, mitch\n",
      "find: empty, unable, surprised, rushes, discover\n",
      "UNK: pedro, franklin, andrea, giovann, mitch\n",
      "UNK: pedro, franklin, andrea, giovann, mitch\n",
      "UNK: pedro, franklin, andrea, giovann, mitch\n",
      "UNK: pedro, franklin, andrea, giovann, mitch\n",
      "whose: wealthy, dying, lives, name, gay\n",
      "UNK: pedro, franklin, andrea, giovann, mitch\n",
      "UNK: pedro, franklin, andrea, giovann, mitch\n",
      "ending: production, showing, section, films, documentary\n",
      "teaching: art, serve, el, society, imprisoned\n",
      "story: flashback, based, told, follows, begins\n",
      "'': calling, god, thanks, audience, simply\n",
      "UNK: pedro, franklin, andrea, giovann, mitch\n",
      "case: investigation, assigned, solve, sergeant, mystery\n",
      "nick: kate, julie, anne, paul, brad\n",
      "living: enter, gwen, motel, shekhar, mitch\n",
      "of: out, all, pursued, assignment, beneath\n",
      "successful: attracted, enraged, grows, highly, aware\n",
      "boyfriend: girlfriend, ex, husband, her, abusive\n",
      "ties: less, lake, destroying, particularly, uses\n",
      "police: arrest, inspector, corrupt, raid, commissioner\n",
      "days: weeks, hours, moments, later, three\n",
      "bus: tour, english, passing, started, medical\n",
      "UNK: pedro, franklin, andrea, giovann, mitch\n",
      "coming: bringing, came, brings, bring, races\n",
      "UNK: pedro, franklin, andrea, giovann, mitch\n",
      "UNK: pedro, franklin, andrea, giovann, mitch\n",
      "becomes: jealous, increasingly, suspicious, apparent, clear\n",
      "sister: brother, twin, elder, younger, older\n",
      "new: city, mexico, big, moved, start\n",
      "sacrifice: remain, contest, la, cops, conflict\n",
      "dr: psychiatrist, larry, carl, simon, political\n",
      "UNK: pedro, franklin, andrea, giovann, mitch\n",
      "wagon: train, gas, station, space, radio\n",
      "convicted: murder, arrested, lt, torture, passengers\n",
      "father: mother, foster, deceased, alcoholic, uncle\n",
      "part: at, reluctant, travel, first, time\n",
      "UNK: pedro, franklin, andrea, giovann, mitch\n",
      "UNK: pedro, franklin, andrea, giovann, mitch\n"
     ]
    },
    {
     "name": "stderr",
     "output_type": "stream",
     "text": [
      "c:\\anaconda3\\envs\\tekbac.nlp\\lib\\site-packages\\ipykernel_launcher.py:34: FutureWarning: The signature of `Series.to_csv` was aligned to that of `DataFrame.to_csv`, and argument 'header' will change its default value from False to True: please pass an explicit value to suppress this warning.\n"
     ]
    }
   ],
   "source": [
    "def get_valid_words(docs, size, tok):\n",
    "    \"\"\" Get a random set of words to check the embeddings \"\"\"\n",
    "    np.random.seed(100)\n",
    "    valid_docs = np.random.choice(docs, size=size//2)\n",
    "    valid_words = []\n",
    "    for doc in valid_docs:\n",
    "        np.random.seed(100)\n",
    "        words = np.random.choice(tok.texts_to_sequences([doc])[0],size=2)\n",
    "        valid_words.extend(words)\n",
    "        \n",
    "    return valid_words\n",
    "        \n",
    "\n",
    "valid_words = get_valid_words(docs, 100, tokenizer)\n",
    "def load_embeddings(filename):\n",
    "    print('Loading the word embeddings from the disk')\n",
    "    embed_df = pd.read_csv(filename, index_col=False, header=None)\n",
    "    embed_df = embed_df.set_index(0)\n",
    "    print('Embedding shape: {}'.format(embed_df.shape))\n",
    "    embed_mat = embed_df.values\n",
    "    words = embed_df.index.values\n",
    "    return embed_mat, words\n",
    "\n",
    "def get_cosine_sim(emb, valid_words, top_k):\n",
    "    norm = np.sqrt(np.sum(emb**2,axis=1,keepdims=True))\n",
    "    norm_emb = emb/norm\n",
    "    in_emb = norm_emb[valid_words,:]\n",
    "    similarity = np.dot(in_emb, np.transpose(norm_emb))\n",
    "    sorted_ind = np.argsort(-similarity, axis=1)[:,1:top_k+1]\n",
    "    return sorted_ind, valid_words\n",
    "\n",
    "embed_mat, words = load_embeddings(os.path.join('datasets','embeddings_w.csv'))\n",
    "best_ids, wids = get_cosine_sim(embed_mat, valid_words, 5)\n",
    "pd.Series(words).to_csv(os.path.join('datasets','index2word.csv'))\n",
    "for w, bi in zip(wids, best_ids):\n",
    "    print(\"{}: {}\".format(words[w], ', '.join(words[bii] for bii in bi)))"
   ]
  },
  {
   "cell_type": "code",
   "execution_count": null,
   "metadata": {},
   "outputs": [],
   "source": []
  }
 ],
 "metadata": {
  "kernelspec": {
   "display_name": "Python 3",
   "language": "python",
   "name": "python3"
  },
  "language_info": {
   "codemirror_mode": {
    "name": "ipython",
    "version": 3
   },
   "file_extension": ".py",
   "mimetype": "text/x-python",
   "name": "python",
   "nbconvert_exporter": "python",
   "pygments_lexer": "ipython3",
   "version": "3.5.6"
  }
 },
 "nbformat": 4,
 "nbformat_minor": 2
}
